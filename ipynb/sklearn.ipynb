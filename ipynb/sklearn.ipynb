{
  "cells": [
    {
      "cell_type": "code",
      "metadata": {},
      "source": [
        "#SKLEARN\n",
        "\n",
        "#GENERO VARIABLES INDEPENDIENTES\n",
        "x_feactures = data_.iloc[:,40:]\n",
        "df1 = data_['surface_total_in_m2']\n",
        "xs = pd.concat([df1,x_feactures],axis=1)\n",
        "\n",
        "\n",
        "#GENERO VARIABLE DEPENDIENTE\n",
        "y = data_.price_usd_per_m2\n",
        "\n",
        "\n",
        "\n",
        "#TRANSFORMO VARIABLES INDEPENDIENTES EN FORMATO MATRIZ\n",
        "xs = xs.as_matrix()\n",
        "\n",
        "\n",
        "#TRANSFORMO VARIABLE DEPENDIENTE EN FORMATO MATRIZ\n",
        "y = y.as_matrix()\n",
        "\n",
        "\n",
        "\n",
        "\n",
        "#IMPORTAR LIBRERIAS DE SKLEARN\n",
        "from sklearn import linear_model\n",
        "from sklearn.model_selection import train_test_split\n",
        "\n",
        "#PARTICIONAR DATOS DE ENTRENAMIENTO Y TESTING\n",
        "x_train, x_test, y_train, t_test = train_test_split(xs, y, test_size=0.2)\n",
        "\n",
        "\n",
        "#FIT \n",
        "modelo = linear_model.LinearRegression()\n",
        "modelo.fit(x_train,y_train)\n",
        "\n",
        "\n",
        "#PREDECIR DATOS \"Y\" DE \"X\" TEST \n",
        "y_predict = modelo.predict(x_test)\n",
        "\n",
        "\n",
        "#PENDIENTES\n",
        "pendientes = modelo.coef_\n",
        "\n",
        "\n",
        "#ORDENADA \n",
        "ordenada = modelo.intercept_\n",
        "\n",
        "\n",
        "#R2\n",
        "'EL RESULTADO DEL MODELO ES DE {}'.format(modelo.score(x_train,y_train))\n",
        "\n",
        "\n",
        "\n",
        "'EL RESULTADO DEL MODELO ES DE {}'.format(modelo.score(x_train,y_train))"
      ],
      "outputs": [],
      "execution_count": null
    }
  ],
  "metadata": {
    "anaconda-cloud": {},
    "kernelspec": {
      "display_name": "Python 3",
      "language": "python",
      "name": "python3"
    },
    "language_info": {
      "codemirror_mode": {
        "name": "ipython",
        "version": 3
      },
      "file_extension": ".py",
      "mimetype": "text/x-python",
      "name": "python",
      "nbconvert_exporter": "python",
      "pygments_lexer": "ipython3",
      "version": "3.6.1"
    }
  },
  "nbformat": 4,
  "nbformat_minor": 1
}