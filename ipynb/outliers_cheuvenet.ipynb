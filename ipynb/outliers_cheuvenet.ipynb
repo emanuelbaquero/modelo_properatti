{
  "cells": [
    {
      "cell_type": "code",
      "metadata": {},
      "source": [
        "def outliers(p_data):\n",
        "\n",
        "\n",
        "    data_modificada = p_data\n",
        "\n",
        "    # GENERO CULUMNA DE MEDIAS AGRUPANDO POR PCIA, BARRIO, TIPO DE PROPIEDAD\n",
        "    data_modificada ['media_supTotal'] = data_modificada.groupby(['state_name','place_name','property_type'])['surface_total_in_m2'].transform('mean')\n",
        "    data_modificada ['media_supCubierta'] = data_modificada.groupby(['state_name','place_name','property_type'])['surface_covered_in_m2'].transform('mean')\n",
        "    data_modificada ['media_PrecioM2'] = data_modificada.groupby(['state_name','place_name','property_type'])['price_usd_per_m2'].transform('mean')\n",
        "    data_modificada ['media_PrecioAproxUSD'] = data_modificada.groupby(['state_name','place_name','property_type'])['price_aprox_usd'].transform('mean')\n",
        "\n",
        "\n",
        "    #GENERO COLUMNA DE STD AGRUPANDO POR PCIA, BARRIO, TIPO DE PROPIEDAD\n",
        "    data_modificada ['std_supTotal'] = data_modificada.groupby(['state_name','place_name','property_type'])['surface_total_in_m2'].transform('std')\n",
        "    data_modificada ['std_supCubierta'] = data_modificada.groupby(['state_name','place_name','property_type'])['surface_covered_in_m2'].transform('std')\n",
        "    data_modificada ['std_PrecioM2'] = data_modificada.groupby(['state_name','place_name','property_type'])['price_usd_per_m2'].transform('std')\n",
        "    data_modificada ['std_PrecioAproxUSD'] = data_modificada.groupby(['state_name','place_name','property_type'])['price_aprox_usd'].transform('std')\n",
        "\n",
        "\n",
        "    #GENERO COLUMNA CON LA FORMULA DE CHEUVENET PARA EL CALCULO DE OUTLIERS\n",
        "    data_modificada ['supTotal_criterio_cheuvenet'] = (abs(data_modificada.surface_total_in_m2-data_modificada.media_supTotal))/(data_modificada.std_supTotal)\n",
        "    data_modificada ['supCubierta_criterio_cheuvenet'] = (abs(data_modificada.surface_covered_in_m2-data_modificada.media_supCubierta))/(data_modificada.std_supCubierta)\n",
        "    data_modificada ['priceM2_criterio_cheuvenet'] = (abs(data_modificada.price_usd_per_m2-data_modificada.media_PrecioM2))/(data_modificada.std_PrecioM2)\n",
        "    data_modificada ['priceAprox_criterio_cheuvenet'] = (abs(data_modificada.price_aprox_usd-data_modificada.media_PrecioAproxUSD))/(data_modificada.std_PrecioAproxUSD)\n",
        "\n",
        "    \n",
        "    \n",
        "    #  % OUTLIERS SUPERFICIES TOTALES\n",
        "    data_modificada.loc[data_modificada.supTotal_criterio_cheuvenet>2].shape[0]/data_modificada.shape[0]    \n",
        "    data_modificada.surface_total_in_m2.loc[data_modificada.supTotal_criterio_cheuvenet>2] = np.nan\n",
        "    \n",
        "    \n",
        "    #  % OUTLIERS SUPERFICIES CUBIERTAS\n",
        "    data_modificada.loc[data_modificada.supCubierta_criterio_cheuvenet>2].shape[0]/data_modificada.shape[0] \n",
        "    data_modificada.surface_covered_in_m2.loc[data_modificada.supCubierta_criterio_cheuvenet>2] = np.nan\n",
        "    \n",
        "    \n",
        "    #  % OUTLIERS DE PRECIOS APROX USD\n",
        "    data_modificada.price_aprox_usd.loc[data_modificada.priceAprox_criterio_cheuvenet>2].shape[0]/data_modificada.shape[0]   \n",
        "    data_modificada.price_aprox_usd.loc[data_modificada.priceAprox_criterio_cheuvenet>2] = np.nan\n",
        "    \n",
        "    #  % OUTLIERS DE PRECIOS POR M2\n",
        "    data_modificada.loc[data_modificada.priceM2_criterio_cheuvenet>2].shape[0]/data_modificada.shape[0]\n",
        "    data_modificada.price_usd_per_m2.loc[data_modificada.priceM2_criterio_cheuvenet>2] = np.nan\n",
        "    \n",
        "    \n",
        "    \n",
        "    return data_modificada "
      ],
      "outputs": [],
      "execution_count": null
    }
  ],
  "metadata": {
    "anaconda-cloud": {},
    "kernelspec": {
      "display_name": "Python 3",
      "language": "python",
      "name": "python3"
    },
    "language_info": {
      "codemirror_mode": {
        "name": "ipython",
        "version": 3
      },
      "file_extension": ".py",
      "mimetype": "text/x-python",
      "name": "python",
      "nbconvert_exporter": "python",
      "pygments_lexer": "ipython3",
      "version": "3.6.1"
    }
  },
  "nbformat": 4,
  "nbformat_minor": 1
}