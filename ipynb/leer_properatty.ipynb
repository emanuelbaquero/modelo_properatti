{
 "cells": [
  {
   "cell_type": "code",
   "execution_count": 59,
   "metadata": {},
   "outputs": [],
   "source": [
    "import pandas as pd\n",
    "import numpy as np\n",
    "data = pd.read_csv('/home/DS-DH/notebooks/digitalHouse/properatti.csv')"
   ]
  },
  {
   "cell_type": "code",
   "execution_count": 73,
   "metadata": {},
   "outputs": [],
   "source": [
    "matriz = pd.read_csv('/home/DS-DH/notebooks/digitalHouse/matriz.csv',sep='|')"
   ]
  },
  {
   "cell_type": "code",
   "execution_count": 74,
   "metadata": {},
   "outputs": [],
   "source": [
    "data_= pd.read_csv('/home/DS-DH/notebooks/digitalHouse/matriz.csv',sep='|')"
   ]
  },
  {
   "cell_type": "code",
   "execution_count": null,
   "metadata": {},
   "outputs": [],
   "source": []
  },
  {
   "cell_type": "code",
   "execution_count": 75,
   "metadata": {},
   "outputs": [],
   "source": [
    "def outliers(p_data):\n",
    "\n",
    "\n",
    "    data_modificada = p_data\n",
    "\n",
    "    # GENERO CULUMNA DE MEDIAS AGRUPANDO POR PCIA, BARRIO, TIPO DE PROPIEDAD\n",
    "    data_modificada ['media_supTotal'] = data_modificada.groupby(['localidad','barrio','propiedad'])['superficie_total'].transform('mean')\n",
    "    data_modificada ['media_supCubierta'] = data_modificada.groupby(['localidad','barrio','propiedad'])['superficie_cubierta_m2'].transform('mean')\n",
    "    data_modificada ['media_PrecioM2'] = data_modificada.groupby(['localidad','barrio','propiedad'])['precio_m2'].transform('mean')\n",
    "    data_modificada ['media_PrecioAproxUSD'] = data_modificada.groupby(['localidad','barrio','propiedad'])['precio_aprox_usd'].transform('mean')\n",
    "\n",
    "\n",
    "    #GENERO COLUMNA DE STD AGRUPANDO POR PCIA, BARRIO, TIPO DE PROPIEDAD\n",
    "    data_modificada ['std_supTotal'] = data_modificada.groupby(['localidad','barrio','propiedad'])['superficie_total'].transform('std')\n",
    "    data_modificada ['std_supCubierta'] = data_modificada.groupby(['localidad','barrio','propiedad'])['superficie_cubierta_m2'].transform('std')\n",
    "    data_modificada ['std_PrecioM2'] = data_modificada.groupby(['localidad','barrio','propiedad'])['precio_m2'].transform('std')\n",
    "    data_modificada ['std_PrecioAproxUSD'] = data_modificada.groupby(['localidad','barrio','propiedad'])['precio_aprox_usd'].transform('std')\n",
    "\n",
    "\n",
    "    #GENERO COLUMNA CON LA FORMULA DE CHEUVENET PARA EL CALCULO DE OUTLIERS\n",
    "    data_modificada ['supTotal_criterio_cheuvenet'] = (abs(data_modificada.superficie_total-data_modificada.media_supTotal))/(data_modificada.std_supTotal)\n",
    "    data_modificada ['supCubierta_criterio_cheuvenet'] = (abs(data_modificada.superficie_cubierta_m2-data_modificada.media_supCubierta))/(data_modificada.std_supCubierta)\n",
    "    data_modificada ['priceM2_criterio_cheuvenet'] = (abs(data_modificada.precio_m2-data_modificada.media_PrecioM2))/(data_modificada.std_PrecioM2)\n",
    "    data_modificada ['priceAprox_criterio_cheuvenet'] = (abs(data_modificada.precio_aprox_usd-data_modificada.media_PrecioAproxUSD))/(data_modificada.std_PrecioAproxUSD)\n",
    "\n",
    "    \n",
    "    \n",
    "    #  % OUTLIERS SUPERFICIES TOTALES\n",
    "    data_modificada.loc[data_modificada.supTotal_criterio_cheuvenet>2].shape[0]/data_modificada.shape[0]    \n",
    "    data_modificada.superficie_total.loc[data_modificada.supTotal_criterio_cheuvenet>2] = np.nan\n",
    "    \n",
    "    \n",
    "    #  % OUTLIERS SUPERFICIES CUBIERTAS\n",
    "    data_modificada.loc[data_modificada.supCubierta_criterio_cheuvenet>2].shape[0]/data_modificada.shape[0] \n",
    "    data_modificada.superficie_cubierta_m2.loc[data_modificada.supCubierta_criterio_cheuvenet>2] = np.nan\n",
    "    \n",
    "    \n",
    "    #  % OUTLIERS DE PRECIOS APROX USD\n",
    "    data_modificada.precio_aprox_usd.loc[data_modificada.priceAprox_criterio_cheuvenet>2].shape[0]/data_modificada.shape[0]   \n",
    "    data_modificada.precio_aprox_usd.loc[data_modificada.priceAprox_criterio_cheuvenet>2] = np.nan\n",
    "    \n",
    "    #  % OUTLIERS DE PRECIOS POR M2\n",
    "    data_modificada.loc[data_modificada.priceM2_criterio_cheuvenet>2].shape[0]/data_modificada.shape[0]\n",
    "    data_modificada.precio_m2.loc[data_modificada.priceM2_criterio_cheuvenet>2] = np.nan\n",
    "    \n",
    "    \n",
    "    \n",
    "    return data_modificada "
   ]
  },
  {
   "cell_type": "code",
   "execution_count": 76,
   "metadata": {},
   "outputs": [],
   "source": [
    "data_ = outliers(matriz)"
   ]
  },
  {
   "cell_type": "code",
   "execution_count": null,
   "metadata": {},
   "outputs": [],
   "source": []
  },
  {
   "cell_type": "code",
   "execution_count": null,
   "metadata": {},
   "outputs": [],
   "source": [
    "#GENERO AMBIENTES DE MATRIZ\n",
    "#data_['ambientes']=data_.merge(matriz,how='left', left_index=True, right_index=True)['ambientes']\n",
    "\n",
    "#GENERO DUMMYS DE AMBIENTES\n",
    "data_['1_AMBIENTE'] = (data_.ambientes>=1)&(data_.ambientes<2)\n",
    "data_['2_AMBIENTE'] = (data_.ambientes>=2)&(data_.ambientes<3)\n",
    "data_['3_AMBIENTE'] = (data_.ambientes>=3)&(data_.ambientes<4)\n",
    "data_['4_AMBIENTE'] = (data_.ambientes>=4)&(data_.ambientes<5)\n",
    "data_['5_AMBIENTE'] = (data_.ambientes>=5)&(data_.ambientes<6)\n",
    "data_['6_AMBIENTE'] = (data_.ambientes>=6)&(data_.ambientes<7)\n",
    "data_['7_AMBIENTE'] = (data_.ambientes>=7)&(data_.ambientes<8)\n",
    "\n",
    "\n",
    "data_[['1_AMBIENTE','2_AMBIENTE','3_AMBIENTE','4_AMBIENTE', '5_AMBIENTE','6_AMBIENTE','7_AMBIENTE']] = data_[['1_AMBIENTE','2_AMBIENTE','3_AMBIENTE','4_AMBIENTE', '5_AMBIENTE','6_AMBIENTE','7_AMBIENTE']].applymap(lambda x : 1 if (x) else 0)\n",
    "\n",
    "\n",
    "#GENERO DUMMYS TIPO DE PROPIEDAD \n",
    "data_['CASA'] = data_.propiedad.str.contains('house')\n",
    "data_['PH'] =  data_.propiedad.str.contains('PH')\n",
    "data_['DTO'] = data_.propiedad.str.contains('apartment')\n",
    "data_[['CASA','PH','DTO']] = data_[['CASA','PH','DTO']].applymap(lambda x : 1 if x else 0)\n",
    "\n",
    "\n",
    "#ELIMINO REGISTROS NULOS DE VARIABLES A UTILIZAR EN EL MODELO\n",
    "data_=data_[data_.precio_m2.notnull()]\n",
    "data_=data_[data_.superficie_total.notnull()]\n",
    "data_=data_[data_.ambientes.notnull()]\n",
    "\n",
    "\n",
    "#GENERO DUMMYS DE BARRIOS\n",
    "\n",
    "#QUITO NULOS DE LA COLUMNA STATE_NAME\n",
    "data_ = data_[data_.barrio.notnull()]\n",
    "\n",
    "\n",
    "#CREO LISTA DE BARRIOS \n",
    "barrios = data_[data_.localidad.str.contains('capital')].barrio.unique()\n",
    "\n",
    "\n",
    "#GENERO DUMMYS\n",
    "for barrio in barrios:\n",
    "    indices_barrios = (data_.index[data_.barrio.str.contains(barrio)])\n",
    "    barrio = barrio.lower().replace(' ','_')\n",
    "    df = data_\n",
    "    df.barrio = df.barrio.apply(lambda x : x.lower().replace(' ','_'))\n",
    "    df[barrio] = df.barrio.str.contains(barrio)\n",
    "\n",
    "\n",
    "\n",
    "numero_barrios = len(data_.barrio[data_.localidad.str.contains('capital')].unique())\n",
    "indices_dummys_barrios = data_.shape[1]-numero_barrios\n",
    "\n",
    "#CREO EL DATAFRAME CON LAS DUMMYS DE BARRIOS\n",
    "dummys_barrios = data_.iloc[:,indices_dummys_barrios:]\n",
    "\n",
    "\n",
    "dummys_barrios = dummys_barrios.applymap(lambda x : 1 if (x) else 0)\n",
    "\n",
    "\n",
    "#GENERO DUMMYS DE BARRIOS EN EL DATAFRAME\n",
    "data_.iloc[:,indices_dummys_barrios:] = dummys_barrios\n"
   ]
  },
  {
   "cell_type": "code",
   "execution_count": 77,
   "metadata": {},
   "outputs": [],
   "source": []
  },
  {
   "cell_type": "code",
   "execution_count": 79,
   "metadata": {},
   "outputs": [],
   "source": []
  },
  {
   "cell_type": "code",
   "execution_count": 81,
   "metadata": {},
   "outputs": [],
   "source": []
  },
  {
   "cell_type": "code",
   "execution_count": 83,
   "metadata": {},
   "outputs": [],
   "source": []
  },
  {
   "cell_type": "code",
   "execution_count": 119,
   "metadata": {},
   "outputs": [],
   "source": [
    "#SKLEARN\n",
    "\n",
    "#GENERO VARIABLES INDEPENDIENTES\n",
    "x_feactures = data_.iloc[:,31:]\n",
    "df1 = data_['superficie_total']\n",
    "xs = pd.concat([df1,x_feactures],axis=1)"
   ]
  },
  {
   "cell_type": "code",
   "execution_count": 116,
   "metadata": {},
   "outputs": [],
   "source": [
    "\n",
    "#GENERO VARIABLE DEPENDIENTE\n",
    "y = data_.precio_m2"
   ]
  },
  {
   "cell_type": "code",
   "execution_count": 120,
   "metadata": {},
   "outputs": [
    {
     "name": "stderr",
     "output_type": "stream",
     "text": [
      "/opt/conda/lib/python3.6/site-packages/ipykernel_launcher.py:2: FutureWarning: Method .as_matrix will be removed in a future version. Use .values instead.\n",
      "  \n",
      "/opt/conda/lib/python3.6/site-packages/ipykernel_launcher.py:6: FutureWarning: Method .as_matrix will be removed in a future version. Use .values instead.\n",
      "  \n"
     ]
    }
   ],
   "source": [
    "#TRANSFORMO VARIABLES INDEPENDIENTES EN FORMATO MATRIZ\n",
    "xs = xs.as_matrix()\n",
    "\n",
    "\n",
    "#TRANSFORMO VARIABLE DEPENDIENTE EN FORMATO MATRIZ\n",
    "y = y.as_matrix()\n"
   ]
  },
  {
   "cell_type": "code",
   "execution_count": 121,
   "metadata": {},
   "outputs": [],
   "source": [
    "#IMPORTAR LIBRERIAS DE SKLEARN\n",
    "from sklearn import linear_model\n",
    "from sklearn.model_selection import train_test_split"
   ]
  },
  {
   "cell_type": "code",
   "execution_count": 132,
   "metadata": {},
   "outputs": [],
   "source": [
    "#PARTICIONAR DATOS DE ENTRENAMIENTO Y TESTING\n",
    "x_train, x_test, y_train, y_test = train_test_split(xs, y, test_size=0.2)"
   ]
  },
  {
   "cell_type": "code",
   "execution_count": 133,
   "metadata": {},
   "outputs": [
    {
     "data": {
      "text/plain": [
       "LinearRegression(copy_X=True, fit_intercept=True, n_jobs=1, normalize=False)"
      ]
     },
     "execution_count": 133,
     "metadata": {},
     "output_type": "execute_result"
    }
   ],
   "source": [
    "#FIT \n",
    "modelo = linear_model.LinearRegression()\n",
    "modelo.fit(x_train,y_train)"
   ]
  },
  {
   "cell_type": "code",
   "execution_count": 134,
   "metadata": {},
   "outputs": [],
   "source": [
    "#PREDECIR DATOS \"Y\" DE \"X\" TEST \n",
    "y_predict = modelo.predict(x_test)\n"
   ]
  },
  {
   "cell_type": "code",
   "execution_count": 135,
   "metadata": {},
   "outputs": [],
   "source": [
    "#PENDIENTES\n",
    "pendientes = modelo.coef_"
   ]
  },
  {
   "cell_type": "code",
   "execution_count": 136,
   "metadata": {},
   "outputs": [],
   "source": [
    "#ORDENADA \n",
    "ordenada = modelo.intercept_"
   ]
  },
  {
   "cell_type": "code",
   "execution_count": 141,
   "metadata": {},
   "outputs": [
    {
     "data": {
      "text/plain": [
       "'EL RESULTADO DEL MODELO ES DE 0.49694566739918206'"
      ]
     },
     "execution_count": 141,
     "metadata": {},
     "output_type": "execute_result"
    }
   ],
   "source": [
    "#R2\n",
    "'EL RESULTADO DEL MODELO ES DE {}'.format(modelo.score(x_train,y_train))"
   ]
  },
  {
   "cell_type": "code",
   "execution_count": null,
   "metadata": {},
   "outputs": [],
   "source": []
  },
  {
   "cell_type": "code",
   "execution_count": null,
   "metadata": {},
   "outputs": [],
   "source": []
  },
  {
   "cell_type": "code",
   "execution_count": null,
   "metadata": {},
   "outputs": [],
   "source": []
  },
  {
   "cell_type": "code",
   "execution_count": 142,
   "metadata": {},
   "outputs": [
    {
     "data": {
      "image/png": "[encoded data removed]",
      "text/plain": [
       "<Figure size 432x288 with 1 Axes>"
      ]
     },
     "metadata": {},
     "output_type": "display_data"
    }
   ],
   "source": [
    "import matplotlib.pyplot as plt\n",
    "\n",
    "#GENERO EJE X -> SUPERFICIE TOTAL\n",
    "x1 = x_test[:,0]\n",
    "\n",
    "#GENERO EJE Y -> PRECIO M2 DE TEST\n",
    "x2 = y_test\n",
    "\n",
    "# EJE Y -> PRECIO M2 PREDICHO\n",
    "x3 = y_predict\n",
    "\n",
    "\n",
    "#PLOT\n",
    "plt.scatter(x1,x2,label='test modelo', color='blue')\n",
    "plt.scatter(x1,x3,label='prediccion modelo', color='red')\n",
    "plt.title('grafico modelo')\n",
    "plt.show()"
   ]
  },
  {
   "cell_type": "code",
   "execution_count": 100,
   "metadata": {},
   "outputs": [],
   "source": []
  },
  {
   "cell_type": "code",
   "execution_count": 102,
   "metadata": {},
   "outputs": [],
   "source": []
  },
  {
   "cell_type": "code",
   "execution_count": null,
   "metadata": {},
   "outputs": [],
   "source": []
  },
  {
   "cell_type": "code",
   "execution_count": 68,
   "metadata": {},
   "outputs": [],
   "source": [
    "\n",
    "\n",
    "\n",
    "\n",
    "\n",
    "\n",
    "\n",
    "\n",
    "\n",
    "\n",
    "\n",
    "\n",
    "\n",
    "\n",
    "\n"
   ]
  },
  {
   "cell_type": "code",
   "execution_count": null,
   "metadata": {},
   "outputs": [],
   "source": []
  },
  {
   "cell_type": "code",
   "execution_count": null,
   "metadata": {},
   "outputs": [],
   "source": []
  }
 ],
 "metadata": {
  "anaconda-cloud": {},
  "kernelspec": {
   "display_name": "Python 3",
   "language": "python",
   "name": "python3"
  },
  "language_info": {
   "codemirror_mode": {
    "name": "ipython",
    "version": 3
   },
   "file_extension": ".py",
   "mimetype": "text/x-python",
   "name": "python",
   "nbconvert_exporter": "python",
   "pygments_lexer": "ipython3",
   "version": "3.6.6"
  }
 },
 "nbformat": 4,
 "nbformat_minor": 1
}
