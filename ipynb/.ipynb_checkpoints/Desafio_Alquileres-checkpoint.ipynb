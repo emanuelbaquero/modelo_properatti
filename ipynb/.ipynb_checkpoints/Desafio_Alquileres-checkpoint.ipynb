{
 "cells": [
  {
   "cell_type": "markdown",
   "metadata": {},
   "source": [
    "# Desafio Properatti (Calculo de precios de alquileres)"
   ]
  },
  {
   "cell_type": "markdown",
   "metadata": {},
   "source": [
    "### Limpieza de Datos"
   ]
  },
  {
   "cell_type": "code",
   "execution_count": 3,
   "metadata": {},
   "outputs": [],
   "source": [
    "import numpy as np\n",
    "import pandas as pd\n",
    "import unidecode as uni\n",
    "import warnings\n",
    "warnings.simplefilter(action='ignore', category=FutureWarning)\n",
    "\n",
    "\n",
    "def ejecutar_programa(salida):\n",
    "    ##DEFINO FUNCIONES LOCALES DEL PROGRAMA\n",
    "    def f_ambiente (x) :\n",
    "        if x.contains(\"ambiente\") :\n",
    "            return 1\n",
    "        else :\n",
    "            return 0\n",
    "\n",
    "\n",
    "    def obtengo_ambiente(x): \n",
    "        v_1 = x.lower()             # texto en minuscula\n",
    "        v_2 = v_1.find('amb')     # posicion \"amb\"\n",
    "        if v_2<0:\n",
    "            return -1\n",
    "        else:\n",
    "            v_3 = v_2-2                     # posicion -2 OBTENGO NUMERO DE AMBIENTES\n",
    "            v_4 = v_2-1                     # posicion -1 OBTENGO NUMERO DE AMBIENTES\n",
    "            v_5 = v_1[v_3:v_4]\n",
    "            return v_5\n",
    "        \n",
    "    def obtengo_dormitorio(x): \n",
    "        v_1 = x.lower()             # texto en minuscula\n",
    "        v_2 = v_1.find('dorm')     # posicion \"dormitorio\"\n",
    "        if v_2<0:\n",
    "            return -1\n",
    "        else:\n",
    "            v_3 = v_2-2                     # posicion -2 OBTENGO NUMERO DE AMBIENTES\n",
    "            v_4 = v_2-1                     # posicion -1 OBTENGO NUMERO DE AMBIENTES\n",
    "            v_5 = v_1[v_3:v_4]\n",
    "            return v_5\n",
    "    \n",
    "    def obtengo_depto(x): \n",
    "        v_1 = x.lower()             # texto en minuscula\n",
    "        v_2 = v_1.find('dep')     # posicion \"amb\"\n",
    "        if v_2<0:\n",
    "            return -1\n",
    "        else:\n",
    "            v_3 = v_2-2                     # posicion -2 OBTENGO NUMERO DE AMBIENTES\n",
    "            v_4 = v_2-1                     # posicion -1 OBTENGO NUMERO DE AMBIENTES\n",
    "            v_5 = v_1[v_3:v_4]\n",
    "            return v_5\n",
    "    \n",
    "    def devolver_un_ambiente (x):\n",
    "        if x :\n",
    "            return 1\n",
    "    \n",
    "    \n",
    "    def inferir_error_superficies_mayores_cu():\n",
    "        df_errores = []\n",
    "        df_indices = []\n",
    "        for i in data.state_name.unique():\n",
    "            tam_total = pd.DataFrame(data[(data.surface_covered_in_m2>data.surface_covered_in_m2[data.state_name.str.contains(i)].mean())].sort_values('surface_covered_in_m2'))\n",
    "            cantidad_error = tam_total.shape[0]*0.002\n",
    "            cantidad_error = pd.Series(cantidad_error).astype(int)[0]\n",
    "            indices_error = tam_total.tail(cantidad_error).index\n",
    "            indices = data.loc[indices_error].index.values\n",
    "            data.surface_covered_in_m2.loc[indices] = -1\n",
    "    \n",
    "    def inferir_error_superficies_menores_cu():\n",
    "        df_errores = []\n",
    "        df_indices = []\n",
    "        for i in data.state_name.unique():\n",
    "            tam_total = pd.DataFrame(data[(data.surface_covered_in_m2<data.surface_covered_in_m2[data.state_name.str.contains(i)].mean())].sort_values('surface_covered_in_m2'))\n",
    "            cantidad_error = tam_total.shape[0]*0.018\n",
    "            cantidad_error = pd.Series(cantidad_error).astype(int)[0]\n",
    "            indices_error = tam_total.head(cantidad_error).index\n",
    "            indices = data.loc[indices_error].index.values\n",
    "            data.surface_covered_in_m2.loc[indices] = -2\n",
    "    \n",
    "    \n",
    "    def inferir_error_superficies_mayores_total():\n",
    "        df_errores = []\n",
    "        df_indices = []\n",
    "        for i in data.state_name.unique():\n",
    "            tam_total = pd.DataFrame(data[(data.surface_total_in_m2>data.surface_total_in_m2[data.state_name.str.contains(i)].mean())].sort_values('surface_total_in_m2'))\n",
    "            cantidad_error = tam_total.shape[0]*0.003\n",
    "            cantidad_error = pd.Series(cantidad_error).astype(int)[0]\n",
    "            indices_error = tam_total.tail(cantidad_error).index\n",
    "            indices = data.loc[indices_error].index.values\n",
    "            data.surface_total_in_m2.loc[indices] = -1\n",
    "    \n",
    "    def inferir_error_superficies_menores_total():\n",
    "        df_errores = []\n",
    "        df_indices = []\n",
    "        for i in data.state_name.unique():\n",
    "            tam_total = pd.DataFrame(data[(data.surface_total_in_m2<data.surface_total_in_m2[data.state_name.str.contains(i)].mean())].sort_values('surface_total_in_m2'))\n",
    "            cantidad_error = tam_total.shape[0]*0.022\n",
    "            cantidad_error = pd.Series(cantidad_error).astype(int)[0]\n",
    "            indices_error = tam_total.head(cantidad_error).index\n",
    "            indices = data.loc[indices_error].index.values\n",
    "            data.surface_total_in_m2.loc[indices] = -2\n",
    "\n",
    "    def inferir_error_precios_mayores_usd():    \n",
    "        \n",
    "        df_errores = []\n",
    "        df_indices = []\n",
    "    \n",
    "        for i in data.state_name.unique():\n",
    "            tam_total = pd.DataFrame(data[(data.price_aprox_usd>data.price_aprox_usd[data.state_name.str.contains(i)].mean())].sort_values('price_aprox_usd'))\n",
    "            cantidad_error = tam_total.shape[0]*0.0015\n",
    "            cantidad_error = pd.Series(cantidad_error).astype(int)[0]\n",
    "            indices_error = tam_total.tail(cantidad_error).index\n",
    "            indices = data.loc[indices_error].index.values\n",
    "            data.price_aprox_usd.loc[indices] = -1\n",
    "    \n",
    "    \n",
    "    def inferir_error_precios_menores_usd():    \n",
    "        \n",
    "        df_errores = []\n",
    "        df_indices = []\n",
    "    \n",
    "        for i in data.state_name.unique():\n",
    "            tam_total = pd.DataFrame(data[(data.price_aprox_usd<data.price_aprox_usd[data.state_name.str.contains(i)].mean())].sort_values('price_aprox_usd'))\n",
    "            cantidad_error = tam_total.shape[0]*0.018\n",
    "            cantidad_error = pd.Series(cantidad_error).astype(int)[0]\n",
    "            indices_error = tam_total.head(cantidad_error).index\n",
    "            indices = data.loc[indices_error].index.values\n",
    "            data.price_aprox_usd.loc[indices] = -2\n",
    "    \n",
    "    \n",
    "    def imputacion_automatica_ambientes(limite):\n",
    "\n",
    "        data['imputar_ambientes'] = np.nan\n",
    "        \n",
    "        for i in range(1,limite): \n",
    "        \n",
    "            #GENERAR GRUPOS DE SUPERFICIES\n",
    "            data['categorias_sup_cubierta_por_m2'] = pd.qcut(data[data.surface_covered_in_m2>10].nueva_surface_total_in_m2,i)\n",
    "            #CALCULAR MEDIAS CANTIDAD_AMBIENTES \n",
    "            dfImputacionesAmbientes = pd.DataFrame(data[data.ambientes_ceros!=0].groupby(['state_name','place_name','categorias_sup_cubierta_por_m2'])['ambientes_ceros'].mean())\n",
    "            serie_imputaciones_ambientes = data.merge(dfImputacionesAmbientes,how='left',left_on=['state_name','place_name','categorias_sup_cubierta_por_m2'],right_on=['state_name','place_name','categorias_sup_cubierta_por_m2'])['ambientes_ceros_y']   \n",
    "            data.imputar_ambientes.update(serie_imputaciones_ambientes)\n",
    "            \n",
    "        return data.imputar_ambientes\n",
    "    \n",
    "    \n",
    "        \n",
    "    def imputacion_automatica_superficies_cu(limite):\n",
    "\n",
    "        data['imputando_superficies_cubiertas'] = np.nan\n",
    "        \n",
    "        for i in range(1,limite): \n",
    "        \n",
    "            #GENERAR GRUPOS DE AMBIENTES EN PESOS\n",
    "            data['ambientes_imputados_ceros'] = data.ambientes_imputados.fillna(0).astype(float)\n",
    "            data['categorias_ambientes'] = pd.qcut(data[data.ambientes_imputados_ceros>=1].ambientes_imputados_ceros,i)\n",
    "            #CALCULAR MEDIAS SUPERFICIES CUBIERTAS\n",
    "            df_superficies_imput = pd.DataFrame(data[data.ambientes_imputados_ceros>=1].groupby(['state_name','place_name','property_type','categorias_ambientes'])['nueva_surface_total_in_m2'].mean())\n",
    "            imputar_serie = data.merge(df_superficies_imput,how='left',left_on=['state_name','place_name','property_type','categorias_ambientes'],right_on=['state_name','place_name','property_type','categorias_ambientes'])['nueva_surface_total_in_m2_y']\n",
    "            data.imputando_superficies_cubiertas.update(imputar_serie)\n",
    "\n",
    "        return data.imputando_superficies_cubiertas\n",
    "    \n",
    "    \n",
    "    def imputacion_automatica_sup_jardines(limite):\n",
    "        \n",
    "        data['imputando_superficie_jardines'] = np.nan\n",
    "        \n",
    "        for i in range(1,limite):\n",
    "            \n",
    "            data['categoria_superficie_total'] = pd.qcut(data.surface_total[(data.surface_total>=1)&(data.superficies_jardines.notnull())],i)\n",
    "    \n",
    "            ##SUPERFICIES JARDINES IMPUTACION\n",
    "            df_sup_jardines = pd.DataFrame(data[(data.surface_total>=1)&(data.superficies_jardines.notnull())].groupby(['state_name','place_name','property_type','categoria_superficie_total'])['superficies_jardines'].mean())\n",
    "            serie_imputar_sup_jardines = data.merge(df_sup_jardines,how='left',left_on=['state_name','place_name','property_type','categoria_superficie_total'], right_on=['state_name','place_name','property_type','categoria_superficie_total'])['superficies_jardines_y']\n",
    "            data.imputando_superficie_jardines.update(serie_imputar_sup_jardines)\n",
    "            \n",
    "        return data.imputando_superficie_jardines\n",
    "    \n",
    "    \n",
    "    \n",
    "    def imputacion_automatica_sup_terraza(limite):\n",
    "        \n",
    "        data['imputando_superficie_terraza'] = np.nan\n",
    "           \n",
    "        for i in range(1,limite):\n",
    "        \n",
    "            data['categoria_superficie_total'] = pd.qcut(data.surface_total[(data.surface_total>=1)&(data.superficie_terraza.notnull())],i)\n",
    "            \n",
    "            ##SUPERFICIES TERRAZAS IMPUTACION\n",
    "            df_sup_terrazas = pd.DataFrame(data[(data.surface_total>=1)&(data.superficie_terraza.notnull())].groupby(['state_name','place_name','property_type','categoria_superficie_total'])['superficie_terraza'].mean())\n",
    "            serie_imputar_sup_jardines = data.merge(df_sup_terrazas, how='left', left_on=['state_name','place_name','property_type','categoria_superficie_total'], right_on=['state_name','place_name','property_type','categoria_superficie_total'])['superficie_terraza_y']\n",
    "            data.imputando_superficie_terraza.update(serie_imputar_sup_jardines)\n",
    "        \n",
    "        return data.imputando_superficie_terraza\n",
    "    \n",
    "    \n",
    "    \n",
    "    def imputacion_automatica_sup_terraza_jardines(limite):\n",
    "            \n",
    "        data['imputando_superficie_terraza_jardines'] = np.nan\n",
    "        \n",
    "        for i in range (1,limite):\n",
    "            \n",
    "            data['categoria_superficie_total'] = pd.qcut(data.surface_total[(data.surface_total>=1)&(data.superficie_terraza_jardin.notnull())],i)\n",
    "\n",
    "            ##SUPERFICIES TERRAZAS/JARDINES IMPUTACION\n",
    "            df_sup_terrazas_jardines_terraza = pd.DataFrame(data[(data.surface_total>=1)&(data.superficie_terraza_jardin.notnull())].groupby(['state_name','place_name','property_type','categoria_superficie_total'])['superficie_terraza_jardin'].mean())\n",
    "            serie_imputar_sup_jardines_terraza = data.merge(df_sup_terrazas_jardines_terraza, how='left',left_on=['state_name','place_name','property_type','categoria_superficie_total'], right_on=['state_name','place_name','property_type','categoria_superficie_total'])['superficie_terraza_jardin_y']\n",
    "            data.imputando_superficie_terraza_jardines.update(serie_imputar_sup_jardines_terraza)\n",
    "        \n",
    "        return data.imputando_superficie_terraza_jardines\n",
    "    \n",
    "    \n",
    "    def imputacion_automatica_sup_total(limite):\n",
    "        \n",
    "        data['imputando_superficie_total'] = np.nan\n",
    "        \n",
    "        for i in range(1,limite):\n",
    "        \n",
    "            ##IMPUTAR SUPERFICIES TOTALES CON JARDINES\n",
    "            data['categorias_jardines'] = pd.qcut(data[data.superficie_jardin_imputada.notnull()].superficie_jardin_imputada,i)\n",
    "            df_jardines = pd.DataFrame(data.groupby(['state_name','place_name','property_type','categorias_jardines'])['surface_total'].mean())\n",
    "            serie_sup_total_jardines = data.merge(df_jardines,how='left',left_on=['state_name','place_name','property_type','categorias_jardines'],right_on=['state_name','place_name','property_type','categorias_jardines'])['surface_total_y']\n",
    "            \n",
    "            data.imputando_superficie_total.update(serie_sup_total_jardines)\n",
    "            \n",
    "            ##IMPUTAR SUPERFICIES TOTALES CON TERRAZAS\n",
    "            data['categorias_terraza'] = pd.qcut(data[data.superficie_terraza_imputada.notnull()].superficie_terraza_imputada,10)\n",
    "            df_terraza = pd.DataFrame(data.groupby(['state_name','place_name','property_type','categorias_terraza'])['surface_total'].mean())\n",
    "            serie_sup_total_terrazas = data.merge(df_terraza, how='left',left_on=['state_name','place_name','property_type','categorias_terraza'],right_on=['state_name','place_name','property_type','categorias_terraza'])['surface_total_y']\n",
    "            \n",
    "            data.imputando_superficie_total.update(serie_sup_total_terrazas)\n",
    "            \n",
    "            \n",
    "            ##IMPUTAR SUPERFICIES TOTALES CON JARDINES/TERRAZAS\n",
    "            data['categorias_terraza_jardines'] = pd.qcut(data[data.sup_terraza_jardin_imputada.notnull()].sup_terraza_jardin_imputada,10)\n",
    "            df_terraza_jardin = pd.DataFrame(data.groupby(['state_name','place_name','property_type','categorias_terraza_jardines'])['surface_total'].mean())\n",
    "            serie_sup_total_terrazas_jardines = data.merge(df_terraza_jardin, how='left',left_on=['state_name','place_name','property_type','categorias_terraza_jardines'],right_on=['state_name','place_name','property_type','categorias_terraza_jardines'])['surface_total_y']\n",
    "            \n",
    "            data.imputando_superficie_total.update(serie_sup_total_terrazas_jardines)\n",
    "            \n",
    "            \n",
    "        return data.imputando_superficie_total\n",
    "    \n",
    "    \n",
    "    def imputacion_automatica_precios_usd(limite):\n",
    "\n",
    "        data['imputar_precios_usd'] = np.nan\n",
    "        \n",
    "        for i in range(1,limite): \n",
    "                \n",
    "            data['categorias_superficie_terraza'] = pd.qcut(data.superficie_terraza,i)\n",
    "            ##IMPUTAR PRECIOS DE SUPERFICIES CON TERRAZA\n",
    "            df_terraza = pd.DataFrame(data[data.categorias_superficie_terraza.notnull()].groupby(['state_name','place_name','property_type','categoria_superficie_cubierta_imputada','categorias_superficie_terraza'])['price_aprox_usd'].mean()) \n",
    "            data['imputar_precios_terraza'] = data.merge(df_terraza, how='left', left_on=['state_name','place_name','property_type','categoria_superficie_cubierta_imputada','categorias_superficie_terraza'],right_on=['state_name','place_name','property_type','categoria_superficie_cubierta_imputada','categorias_superficie_terraza'])['price_aprox_usd_y']\n",
    "            data.imputar_precios_usd.update(data.imputar_precios_terraza)\n",
    "\n",
    "            data['categorias_superficie_jardines']  = pd.qcut(data.superficies_jardines,i)\n",
    "            ##IMPUTAR PRECIOS DE SUPERFICIES CON JARDINES\n",
    "            df_jardin = pd.DataFrame(data[data.categorias_superficie_jardines.notnull()].groupby(['state_name','place_name','property_type','categoria_superficie_cubierta_imputada','categorias_superficie_jardines'])['price_aprox_usd'].mean())\n",
    "            data['imputar_precios_jardines'] = data.merge(df_jardin,how='left',left_on=['state_name','place_name','property_type','categoria_superficie_cubierta_imputada','categorias_superficie_jardines'], right_on=['state_name','place_name','property_type','categoria_superficie_cubierta_imputada','categorias_superficie_jardines'])['price_aprox_usd_y']\n",
    "            data.imputar_precios_usd.update(data.imputar_precios_jardines)\n",
    "\n",
    "            data['categorias_superficie_terraza_jardin'] = pd.qcut(data.superficie_terraza_jardin,i)\n",
    "            ##IMPUTAR PRECIOS DE SUPERFICIES CON TERRAZAS Y JARDINES \n",
    "            df_terraza_jardin = pd.DataFrame(data[data.categorias_superficie_terraza_jardin.notnull()].groupby(['state_name','place_name','property_type','categoria_superficie_cubierta_imputada','categorias_superficie_terraza_jardin'])['price_aprox_usd'].mean())\n",
    "            data['imputar_precios_terraza_jardin'] = data.merge(df_terraza_jardin, how='left', left_on=['state_name','place_name','property_type','categoria_superficie_cubierta_imputada','categorias_superficie_terraza_jardin'], right_on=['state_name','place_name','property_type','categoria_superficie_cubierta_imputada','categorias_superficie_terraza_jardin'])['price_aprox_usd_y']\n",
    "            data.imputar_precios_usd.update(data.imputar_precios_terraza_jardin)\n",
    "\n",
    "        return data.imputar_precios_usd\n",
    "    \n",
    "    def imputacion_automatica_precios_usd_sup_total(limite):\n",
    "        \n",
    "        data['imputar_precios_usd'] = np.nan\n",
    "        \n",
    "        for i in range(1,limite):\n",
    "            \n",
    "            data['categorias_superficie_total_m2'] = pd.qcut(data.surface_total,i)\n",
    "            df_precio_sup_total = pd.DataFrame(data.groupby(['state_name','place_name','property_type','categorias_superficie_total_m2'])['price_aprox_usd'].mean())\n",
    "            serie_imputada_precio_sup_total = data.merge(df_precio_sup_total,how='left',left_on=['state_name','place_name','property_type','categorias_superficie_total_m2'], right_on=['state_name','place_name','property_type','categorias_superficie_total_m2'])['price_aprox_usd_y']            \n",
    "            data.imputar_precios_usd.update(serie_imputada_precio_sup_total)            \n",
    "        \n",
    "        return data.imputar_precios_usd\n",
    "    \n",
    "    #LEER ARCHIVO\n",
    "    data = pd.read_csv('/home/DS-DH/notebooks/digitalHouse/properatti.csv')\n",
    "    #data = data[data['Unnamed: 0']!=11]\n",
    "    \n",
    "    #QUITO LAS FILAS REPETIDAS DEL CAMPO DESCRIPCION\n",
    "    data = data.drop_duplicates(subset=['description'], keep='first')\n",
    "    \n",
    "    #QUITO LAS FILAS CON SUPERFICIE CUBIERTA MENOR A 16\n",
    "    data = data[(data.surface_covered_in_m2>16)|(data.surface_covered_in_m2.isnull())]\n",
    "    \n",
    "    #QUITO LAS FILAS CON SUPERFICIE TOTAL MENOR A 16\n",
    "    data = data[(data.surface_total_in_m2>16)|(data.surface_total_in_m2.isnull())]\n",
    "    \n",
    "    #QUITO LAS FILAS CON SUPERFICIES CUBIERTAS MENOR 50 DE CASAS \n",
    "    data = data[(~((data.surface_covered_in_m2<50)&(data.property_type.str.contains('house'))))]\n",
    "    \n",
    "    #QUITO LAS FILAS CON SUPERFICIE TOTAL MENOR 50 DE CASAS \n",
    "    data = data[(~((data.surface_total_in_m2<50)&(data.property_type.str.contains('house'))))]\n",
    "  \n",
    "    #PONGO NULOS LOS VALORES DE SUPERFICIE CUBIERTA CUANDO SUPERFICIE_CUBIERTA>SUPERFICIE_TOTAL\n",
    "    data.surface_covered_in_m2[data.surface_covered_in_m2>data.surface_total_in_m2] = np.nan \n",
    "    \n",
    "    ##INFERIMOS EL ERROR \n",
    "    #inferir_error_superficies_mayores_cu()\n",
    "    #inferir_error_superficies_menores_cu()\n",
    "    #inferir_error_superficies_mayores_total()\n",
    "    #inferir_error_superficies_menores_total()\n",
    "    #inferir_error_precios_mayores_usd()    \n",
    "    #inferir_error_precios_menores_usd()    \n",
    "    \n",
    "    ##DESISTIMO EL ERROR QUITANDO LAS FILAS CALCULADAS EN EL PASO ANTERI\n",
    "    #data = data[(data.surface_covered_in_m2>0)|(data.surface_covered_in_m2.isnull())]\n",
    "    #data = data[(data.surface_total_in_m2>0)|(data.surface_total_in_m2.isnull())]\n",
    "    #data = data[(data.price_aprox_usd>0)|(data.price_aprox_usd.isnull())]\n",
    "    \n",
    "    \n",
    "    \n",
    "    #REEMPLAZAR STRING |    \n",
    "    replace_place = data.place_with_parent_names.str.replace(\"|\",\",\").str[1:-1].str.split(',')\n",
    "  \n",
    "    \n",
    "    ##AGREGO COLUMNA DE PAIS\n",
    "    data[\"pais_2\"] = replace_place[:].str[0].str.lower()\n",
    "    ##AGREGO COLUMNA DE LOCALIDAD\n",
    "    data[\"localidad_2\"] = replace_place[:].str[1].str.lower()\n",
    "    ##AGREGO COLUMNA DE BARRIO\n",
    "    data[\"barrio_2\"] = replace_place[:].str[2].str.lower()\n",
    "    ##AGREGO COLUMNA BARRIO EXTRA\n",
    "    data[\"barrio_2b\"] = replace_place[:].str[3].str.lower()\n",
    "    \n",
    "\n",
    "    \n",
    "    ##REEMPLAZO COLUMNAS DESCRIPCION Y TITULO (MINUSCULAS Y ACENTOS)\n",
    "    data.description = data.description.astype(str).apply(uni.unidecode).str.lower()\n",
    "    data.title = data.title.astype(str).apply(uni.unidecode).str.lower()\n",
    "    \n",
    "    \n",
    "    ##OBTENGOS JARDINES, TERRAZAS \n",
    "    booleanos_jardines =(data.description.str.contains('parquizado'))|(data.description.str.contains('patio'))|(data.description.str.contains('jardin')) \n",
    "    booleanos_terraza = (data.description.str.contains('terraza'))|(data.description.str.contains('quincho')) \n",
    "    \n",
    "    \n",
    "    ##CALCULO SUPERFICIES DE JARDINES (SIN TERRAZA) \n",
    "    \n",
    "    serie_jardines = (booleanos_jardines) & (~booleanos_terraza) & (data.surface_covered_in_m2.notnull()) & (data.surface_total_in_m2.notnull())\n",
    "    data['superficie_jardin_patio'] = data.surface_total_in_m2[serie_jardines]-data.surface_covered_in_m2[serie_jardines]\n",
    "    serie_superficie_jardines = pd.DataFrame(data.superficie_jardin_patio[(data.superficie_jardin_patio.notnull()) & (data.superficie_jardin_patio > 0)])\n",
    "    data['superficies_jardines'] = data.merge(serie_superficie_jardines,how='left',left_on=['Unnamed: 0'],right_index=True)['superficie_jardin_patio_y']\n",
    "\n",
    "        \n",
    "    ##CALCULO SUPERFICIES DE TERRAZAS (SIN JARDINES)\n",
    "    serie_terraza = (booleanos_terraza) & (~booleanos_jardines) & (data.surface_covered_in_m2.notnull()) & (data.surface_total_in_m2.notnull())\n",
    "    superficie_terraza_indices = pd.DataFrame(data.surface_total_in_m2[serie_terraza]-data.surface_covered_in_m2[serie_terraza],columns=['terraza_y'])    \n",
    "    columna_superficie_terraza = data.merge(superficie_terraza_indices[superficie_terraza_indices.terraza_y>0],how='left', left_on=['Unnamed: 0'],right_index=True)['terraza_y']\n",
    "    data['superficie_terraza'] = columna_superficie_terraza\n",
    "    \n",
    "    \n",
    "    ##CALCULO SUPERFICIES DE TERRAZAS CON JARDINES\n",
    "    serie_terraza_jardin = (booleanos_terraza) & (booleanos_jardines) & (data.surface_covered_in_m2.notnull()) & (data.surface_total_in_m2.notnull())\n",
    "    superficie_terraza_jardin_indices = pd.DataFrame(data.surface_total_in_m2[serie_terraza_jardin]-data.surface_covered_in_m2[serie_terraza_jardin],columns=['terraza_jardin_y'])\n",
    "    columna_superficie_terraza_jardin = data.merge(superficie_terraza_jardin_indices[superficie_terraza_jardin_indices.terraza_jardin_y>0],how='left', left_on=['Unnamed: 0'], right_index=True)['terraza_jardin_y']\n",
    "    data['superficie_terraza_jardin'] = columna_superficie_terraza_jardin\n",
    "    \n",
    "        \n",
    "    ##CONTIENE AMBIENTES EN CAMPO DESCRIPCION \n",
    "    un_ambiente = data[data.rooms<=7].description.str.contains(\"ambiente \") | data.description.str.contains(\"amb.\",\"amb \") & data.description.str.contains(\"1 amb\")\n",
    "    dos_o_mas_ambientes = data.description.str.contains(\"ambientes\") | data.description.str.contains(\"2 amb\")\n",
    "    data[\"un_ambiente\"]=un_ambiente\n",
    "        \n",
    "\n",
    "    \n",
    "    cant_ambientes_old_desc = data[data.rooms<=7].description.astype(str).apply(obtengo_ambiente)\n",
    "    cant_ambientes_old_title = data[data.rooms<=7].title.astype(str).apply(obtengo_ambiente)\n",
    "    cant_ambientes_desc = cant_ambientes_old_desc.str.extract(r'(\\d+)')\n",
    "    cant_ambientes_title = cant_ambientes_old_title.str.extract(r'(\\d+)')\n",
    "    \n",
    "    data['cantidad_ambientes_desc'] = cant_ambientes_desc\n",
    "    data['cantidad_ambientes_title'] = cant_ambientes_title\n",
    "    \n",
    "    data['un_ambiente'] = data.un_ambiente\n",
    "    data['monoambiente'] = data[data.rooms<=7].description.str.contains('monoambiente') | data.description.str.contains('mono ambiente') | data.title.str.contains('monoambiente') | data.title.str.contains('mono ambiente')  \n",
    "\n",
    "    \n",
    "    data['ambientes'] = data.rooms[data.rooms.fillna(100).astype(int)<6].astype(int)\n",
    "    \n",
    "    var_un_ambiente = data.un_ambiente.apply(devolver_un_ambiente)\n",
    "    var_monoambiente = data.monoambiente.apply(devolver_un_ambiente)\n",
    "    #data.cantidad_ambientes_title.update(data.cantidad_ambientes_desc)\n",
    "    data.ambientes.update(data.cantidad_ambientes_title)\n",
    "    data.ambientes.update(data.cantidad_ambientes_desc)\n",
    "    \n",
    "    \n",
    "    \n",
    "    data['var_un_ambiente'] = var_un_ambiente\n",
    "    data['var_monoambiente'] = var_monoambiente\n",
    "    data.var_un_ambiente.update(data.ambientes)\n",
    "    data.var_monoambiente.update(data.var_un_ambiente)\n",
    "    \n",
    "    \n",
    "    data['nuevos_ambientes'] = data.var_monoambiente \n",
    "    \n",
    "    data['ambientes_ceros'] = data.nuevos_ambientes.fillna(0).astype(int) \n",
    "    #data['grupos_ambientes'] = pd.cut(data.ambientes_ceros,[0,4!=0])\n",
    "    \n",
    "    \n",
    "    ##GUARDO COLUMNA TITLE\n",
    "    data['surface_total'] = data.surface_total_in_m2\n",
    "    \n",
    "    data.surface_total_in_m2.update(data.surface_covered_in_m2)\n",
    "    data['nueva_surface_total_in_m2'] = data.surface_total_in_m2 \n",
    "        \n",
    "\n",
    "    ##IMPUTAR AMBIENTES\n",
    "    data['ambientes_imputados'] = imputacion_automatica_ambientes(20)\n",
    "    data.ambientes_imputados.update(data.nuevos_ambientes)\n",
    "    \n",
    "        \n",
    "    #IMPUTAR FALTANTES CANTIDAD_AMBIENTES CON SUPERFICIES CUBIERTAS\n",
    "    data['superficie_cubierta_imputada'] = np.nan\n",
    "    imputar_serie = imputacion_automatica_superficies_cu(5)\n",
    "    data.superficie_cubierta_imputada.update(imputar_serie)\n",
    "\n",
    "    data.superficie_cubierta_imputada.update(data.nueva_surface_total_in_m2)\n",
    "    data.superficie_cubierta_imputada[(data.superficie_cubierta_imputada<50)&(data.property_type.str.contains('house'))] = np.nan\n",
    "    \n",
    "    ##IMPUTAR SUPERFICIE JARDIN\n",
    "    data['superficie_jardin_imputada'] = imputacion_automatica_sup_jardines(10)\n",
    "    data.superficie_jardin_imputada.update(data.superficies_jardines)\n",
    "    \n",
    "    ##IMPUTAR SUPERFICIE TERRAZA\n",
    "    data['superficie_terraza_imputada'] = imputacion_automatica_sup_terraza(10)\n",
    "    data.superficie_terraza_imputada.update(data.superficie_terraza)\n",
    "    \n",
    "    ##IMPUTAR SUPERFICIE JARDIN/TERRAZA\n",
    "    data['sup_terraza_jardin_imputada'] = imputacion_automatica_sup_terraza_jardines(10)\n",
    "    data.sup_terraza_jardin_imputada.update(data.superficie_terraza_jardin)\n",
    "    \n",
    "    \n",
    "    ##IMPUTAR SUPERFICIE TOTAL DE JARDINES TERRAZAS \n",
    "    data['superficie_total_imputada'] = imputacion_automatica_sup_total(20)\n",
    "    data.superficie_total_imputada.update(data.surface_total)\n",
    "    \n",
    "    \n",
    "    \n",
    "    ##CUANDO LA SUPERFICIE TOTAL < SUPERFICIE CUBIERTA REEMPLAZO CON SUPERFICIE CUBIERTA + JARDIN/TERRAZA\n",
    "    data['superficie_jardin_imputada_ceros'] = data.superficie_jardin_imputada.fillna(0)\n",
    "    data['superficie_terraza_imputada_ceros'] = data.superficie_terraza_imputada.fillna(0)\n",
    "    data['sup_terraza_jardin_imputada_ceros'] = data.sup_terraza_jardin_imputada.fillna(0)\n",
    "    data.superficie_total_imputada[data.superficie_total_imputada<data.superficie_cubierta_imputada] = data.superficie_cubierta_imputada + data.superficie_jardin_imputada_ceros + data.superficie_terraza_imputada_ceros + data.sup_terraza_jardin_imputada_ceros\n",
    "    \n",
    "    \n",
    "    \n",
    "    ##IMPUTAR PRECIOS USD\n",
    "    data['precios_usd_imputados'] = np.nan\n",
    "    data['categoria_superficie_cubierta_imputada'] = pd.qcut(data[data.superficie_cubierta_imputada>=10].superficie_cubierta_imputada,5)\n",
    "    \n",
    "    \n",
    "    \n",
    "    #ACTUALIZO POR SUPERFICIE TOTAL\n",
    "    serie_imputada_sup_total_precios = imputacion_automatica_precios_usd_sup_total(20)\n",
    "    data.precios_usd_imputados.update(serie_imputada_sup_total_precios)\n",
    "    \n",
    "    #ACTUALIZO POR SUPERFICIE CUBIERTA (JARDINES; TERRAZAS; JARDINES Y TERRAZAS)\n",
    "    serie_imputada_precios = imputacion_automatica_precios_usd(20)\n",
    "    data.precios_usd_imputados.update(serie_imputada_precios)\n",
    "    \n",
    "    #ACTUALIZO POR COLUMNA PRICE_APROX_USD\n",
    "    data.precios_usd_imputados.update(data.price_aprox_usd)\n",
    "    \n",
    "    \n",
    "    if salida == 1:\n",
    "        return data\n",
    "    \n",
    "    \n",
    "    \n",
    "    #GENERAR MATRIZ\n",
    "    matriz = pd.DataFrame({ 'id':data['Unnamed: 0'],\n",
    "                            'tipo':data['operation'],\n",
    "                            'propiedad':data.property_type,\n",
    "                            'id_localizacion':data.geonames_id,\n",
    "                            'pais':data.country_name.astype(str).apply(uni.unidecode).str.lower(),\n",
    "                            'localidad':data.state_name.astype(str).apply(uni.unidecode).str.lower(),\n",
    "                            'barrio':data.place_name.astype(str).apply(uni.unidecode).str.lower(),\n",
    "                            'barrio_2b':data.barrio_2b.astype(str).apply(uni.unidecode).str.lower(),\n",
    "                            'latitud':data.lat,\n",
    "                            'longitud':data.lon,\n",
    "                            'moneda':data.currency.str.lower(),\n",
    "                            'ambientes':data.ambientes_imputados,\n",
    "                            'ambientes_ceros':data.ambientes_imputados.fillna(0),\n",
    "                            'nuevos_ambientes' : data.nuevos_ambientes,\n",
    "                            'superficie_total':data.superficie_total_imputada,\n",
    "                            'superficie_cubierta_m2':data.superficie_cubierta_imputada,\n",
    "                            'precio_aprox_usd':data.precios_usd_imputados,\n",
    "                            'precio_m2':data.price_usd_per_m2\n",
    "                   } )\n",
    "    \n",
    "    if salida == 0: \n",
    "        return matriz\n",
    "  "
   ]
  },
  {
   "cell_type": "markdown",
   "metadata": {},
   "source": [
    "### Cargar datos"
   ]
  },
  {
   "cell_type": "code",
   "execution_count": 1,
   "metadata": {},
   "outputs": [],
   "source": [
    "import pandas as pd\n",
    "from pandas import ExcelWriter\n",
    "pd.set_option('chained_assignment',None)"
   ]
  },
  {
   "cell_type": "code",
   "execution_count": null,
   "metadata": {},
   "outputs": [],
   "source": [
    "matriz = pd.DataFrame(ejecutar_programa(0))\n",
    "data = pd.DataFrame(ejecutar_programa(1))"
   ]
  },
  {
   "cell_type": "code",
   "execution_count": null,
   "metadata": {},
   "outputs": [],
   "source": [
    "matriz.to_csv('matriz.csv',sep='|')"
   ]
  },
  {
   "cell_type": "code",
   "execution_count": 5,
   "metadata": {},
   "outputs": [],
   "source": [
    "data.to_csv('data.csv',sep='|')"
   ]
  },
  {
   "cell_type": "markdown",
   "metadata": {},
   "source": [
    "### Leer archivos"
   ]
  },
  {
   "cell_type": "code",
   "execution_count": 15,
   "metadata": {},
   "outputs": [],
   "source": [
    "matriz = pd.read_csv('matriz.csv',sep='|')"
   ]
  },
  {
   "cell_type": "code",
   "execution_count": 17,
   "metadata": {},
   "outputs": [],
   "source": [
    "data = pd.read_csv('data.csv',sep='|')"
   ]
  },
  {
   "cell_type": "markdown",
   "metadata": {},
   "source": [
    "### Precios de Departamentos por Ambientes en Puerto Madero, Caba "
   ]
  },
  {
   "cell_type": "code",
   "execution_count": 49,
   "metadata": {},
   "outputs": [
    {
     "data": {
      "image/png": "[encoded data removed]",
      "text/plain": [
       "<Figure size 432x288 with 1 Axes>"
      ]
     },
     "metadata": {},
     "output_type": "display_data"
    }
   ],
   "source": [
    "matriz.ambientes = matriz.ambientes.fillna(0).astype(int)\n",
    "matriz['categoria_ambientes'] = pd.qcut(matriz[(matriz.ambientes.astype(int)>=1)].ambientes,4)\n",
    "df_precio_sup_total_puertoMadero = pd.DataFrame(matriz[(matriz.barrio.fillna('').str.contains('puerto madero'))&(matriz.propiedad.str.contains('apartment'))].groupby(['categoria_ambientes'])['precio_aprox_usd'].mean().astype(int))\n",
    "df_precio_sup_total_puertoMadero.to_csv('df_precio_sup_total_puertoMadero.csv',sep='|')\n",
    "ax = df_precio_sup_total_puertoMadero.plot.bar(rot=0)\n",
    "export_grafico1 = ax.get_figure()\n",
    "export_grafico1\n",
    "export_grafico1.savefig('grafico_puertoMadero_dto.svg')"
   ]
  },
  {
   "cell_type": "markdown",
   "metadata": {},
   "source": [
    "### Precios de Departamentos por Ambientes en Retiro, Caba "
   ]
  },
  {
   "cell_type": "code",
   "execution_count": 50,
   "metadata": {},
   "outputs": [
    {
     "data": {
      "image/png": "[encoded data removed]",
      "text/plain": [
       "<Figure size 432x288 with 1 Axes>"
      ]
     },
     "metadata": {},
     "output_type": "display_data"
    }
   ],
   "source": [
    "matriz.ambientes = matriz.ambientes.fillna(0).astype(int)\n",
    "matriz['categoria_ambientes'] = pd.qcut(matriz[(matriz.ambientes.astype(int)>=1)].ambientes,4)\n",
    "df_precio_sup_total_retiro = pd.DataFrame(matriz[(matriz.barrio.fillna('').str.contains('retiro'))&(matriz.propiedad.str.contains('apartment'))].groupby(['categoria_ambientes'])['precio_aprox_usd'].mean().astype(int))\n",
    "df_precio_sup_total_retiro.to_csv('df_precio_sup_total_retiro.csv',sep='|')\n",
    "ax = df_precio_sup_total_retiro.plot.bar(rot=0)\n",
    "export_grafico1 = ax.get_figure()\n",
    "export_grafico1\n",
    "export_grafico1.savefig('grafico_retiro_dto.svg')\n"
   ]
  },
  {
   "cell_type": "markdown",
   "metadata": {},
   "source": [
    "### Precios de Departamentos por Ambientes en Flores, Caba "
   ]
  },
  {
   "cell_type": "code",
   "execution_count": 51,
   "metadata": {},
   "outputs": [
    {
     "data": {
      "image/png": "[encoded data removed]",
      "text/plain": [
       "<Figure size 432x288 with 1 Axes>"
      ]
     },
     "metadata": {},
     "output_type": "display_data"
    }
   ],
   "source": [
    "matriz.ambientes = matriz.ambientes.fillna(0).astype(int)\n",
    "matriz['categoria_ambientes'] = pd.qcut(matriz[(matriz.ambientes.astype(int)>=1)].ambientes,4)\n",
    "df_precio_sup_total_flores = pd.DataFrame(matriz[(matriz.barrio.fillna('').str.contains('flores'))&(matriz.propiedad.str.contains('apartment'))].groupby(['categoria_ambientes'])['precio_aprox_usd'].mean().astype(int))\n",
    "df_precio_sup_total_flores.to_csv('df_precio_sup_total_flores.csv',sep='|')\n",
    "ax = df_precio_sup_total_flores.plot.bar(rot=0)\n",
    "export_grafico1 = ax.get_figure()\n",
    "export_grafico1\n",
    "export_grafico1.savefig('grafico_retiro_dto.svg')"
   ]
  },
  {
   "cell_type": "markdown",
   "metadata": {},
   "source": [
    "### Precios de Casas por Superficies en Palermo, Caba "
   ]
  },
  {
   "cell_type": "code",
   "execution_count": 52,
   "metadata": {},
   "outputs": [
    {
     "data": {
      "image/png": "[encoded data removed]",
      "text/plain": [
       "<Figure size 432x288 with 1 Axes>"
      ]
     },
     "metadata": {},
     "output_type": "display_data"
    }
   ],
   "source": [
    "matriz['categorias_superficies_total'] = pd.qcut(matriz[(matriz.superficie_total>=50)&(matriz.propiedad.str.contains('house'))].superficie_total,4)\n",
    "df_precio_casas_palermo = pd.DataFrame(matriz[(matriz.barrio.fillna('').str.contains('palermo'))&(matriz.propiedad.str.contains('house'))].groupby(['categorias_superficies_total'])['precio_aprox_usd'].mean().fillna(0).astype(int))\n",
    "df_precio_casas_palermo.to_csv('df_precio_casas_palermo.csv',sep='|')\n",
    "ax3 = df_precio_casas_palermo.plot.bar(rot=0)\n",
    "export_grafico1 = ax3.get_figure()\n",
    "export_grafico1\n",
    "export_grafico1.savefig('grafico_palermo_house.svg')"
   ]
  },
  {
   "cell_type": "markdown",
   "metadata": {},
   "source": [
    "### Precios de Casas por Superficies en Boedo, Caba "
   ]
  },
  {
   "cell_type": "code",
   "execution_count": 53,
   "metadata": {},
   "outputs": [
    {
     "data": {
      "image/png": "[encoded data removed]",
      "text/plain": [
       "<Figure size 432x288 with 1 Axes>"
      ]
     },
     "metadata": {},
     "output_type": "display_data"
    }
   ],
   "source": [
    "matriz['categorias_superficies_total'] = pd.qcut(matriz[(matriz.superficie_total>=50)&(matriz.propiedad.str.contains('house'))].superficie_total,4)\n",
    "df_precio_casas_boedo = pd.DataFrame(matriz[(matriz.barrio.fillna('').str.contains('boedo'))&(matriz.propiedad.str.contains('house'))].groupby(['categorias_superficies_total'])['precio_aprox_usd'].mean().fillna(0).astype(int))\n",
    "df_precio_casas_boedo.to_csv('df_precio_casas_boedo.csv',sep='|')\n",
    "ax2 = df_precio_casas_boedo.plot.bar(rot=0)\n",
    "export_grafico1 = ax2.get_figure()\n",
    "export_grafico1\n",
    "export_grafico1.savefig('grafico_boedo_house.svg')"
   ]
  },
  {
   "cell_type": "markdown",
   "metadata": {},
   "source": [
    "### Precios de Casas por Superficies en Lugano, Caba "
   ]
  },
  {
   "cell_type": "code",
   "execution_count": 54,
   "metadata": {},
   "outputs": [
    {
     "data": {
      "image/png": "[encoded data removed]",
      "text/plain": [
       "<Figure size 432x288 with 1 Axes>"
      ]
     },
     "metadata": {},
     "output_type": "display_data"
    }
   ],
   "source": [
    "matriz['categorias_superficies_total'] = pd.qcut(matriz[(matriz.superficie_total>=50)&(matriz.propiedad.str.contains('house'))].superficie_total,4)\n",
    "df_precio_casas_lugano = pd.DataFrame(matriz[(matriz.barrio.fillna('').str.contains('lugano'))&(matriz.propiedad.str.contains('house'))].groupby(['categorias_superficies_total'])['precio_aprox_usd'].mean().fillna(0).astype(int))\n",
    "df_precio_casas_lugano.to_csv('df_precio_casas_lugano.csv',sep='|')\n",
    "ax1 = df_precio_casas_lugano.plot.bar(rot=0)\n",
    "export_grafico1 = ax1.get_figure()\n",
    "export_grafico1 \n",
    "export_grafico1.savefig('grafico_lugano_house.svg')"
   ]
  },
  {
   "cell_type": "markdown",
   "metadata": {},
   "source": [
    "### Precios de Casas por Superficies en Santa Cruz "
   ]
  },
  {
   "cell_type": "code",
   "execution_count": 55,
   "metadata": {},
   "outputs": [
    {
     "data": {
      "image/png": "[encoded data removed]",
      "text/plain": [
       "<Figure size 432x288 with 1 Axes>"
      ]
     },
     "metadata": {},
     "output_type": "display_data"
    }
   ],
   "source": [
    "matriz['categorias_superficies_total'] = pd.qcut(matriz[(matriz.superficie_total>=50)&(matriz.propiedad.str.contains('house'))].superficie_total,4)\n",
    "df_precio_casas_pcia_precio_santacruz = pd.DataFrame(matriz[(matriz.localidad.fillna('').str.contains('santa cruz'))&(matriz.propiedad.str.contains('house'))].groupby(['categorias_superficies_total'])['precio_aprox_usd'].mean().fillna(0).astype(int))\n",
    "df_precio_casas_pcia_precio_santacruz.to_csv('df_precio_casas_pcia_precio_santacruz.csv',sep='|')\n",
    "ac2 = df_precio_casas_pcia_precio_santacruz.plot.bar(rot=0)\n",
    "export_grafico1 = ac2.get_figure()\n",
    "export_grafico1\n",
    "export_grafico1.savefig('grafico_pcia_santacruz_house.svg')"
   ]
  },
  {
   "cell_type": "markdown",
   "metadata": {},
   "source": [
    "### Precios de Casas por Superficies en Mendoza "
   ]
  },
  {
   "cell_type": "code",
   "execution_count": 56,
   "metadata": {},
   "outputs": [
    {
     "data": {
      "image/png": "[encoded data removed]",
      "text/plain": [
       "<Figure size 432x288 with 1 Axes>"
      ]
     },
     "metadata": {},
     "output_type": "display_data"
    }
   ],
   "source": [
    "matriz['categorias_superficies_total'] = pd.qcut(matriz[(matriz.superficie_total>=50)&(matriz.propiedad.str.contains('house'))].superficie_total,4)\n",
    "df_precio_casas_pcia_precio_mendoza = pd.DataFrame(matriz[(matriz.localidad.fillna('').str.contains('mendoza'))&(matriz.propiedad.str.contains('house'))].groupby(['categorias_superficies_total'])['precio_aprox_usd'].mean().fillna(0).astype(int))\n",
    "df_precio_casas_pcia_precio_mendoza.to_csv('df_precio_casas_pcia_precio_mendoza.csv',sep='|')\n",
    "ac3 = df_precio_casas_pcia_precio_mendoza.plot.bar(rot=0)\n",
    "export_grafico1 = ac3.get_figure()\n",
    "export_grafico1\n",
    "export_grafico1.savefig('grafico_pcia_mendoza_house.svg')"
   ]
  },
  {
   "cell_type": "markdown",
   "metadata": {},
   "source": [
    "### Precios de Casas por Superficies en Caba "
   ]
  },
  {
   "cell_type": "code",
   "execution_count": 57,
   "metadata": {},
   "outputs": [
    {
     "data": {
      "image/png": "[encoded data removed]",
      "text/plain": [
       "<Figure size 432x288 with 1 Axes>"
      ]
     },
     "metadata": {},
     "output_type": "display_data"
    }
   ],
   "source": [
    "matriz['categorias_superficies_total'] = pd.qcut(matriz[(matriz.superficie_total>=50)&(matriz.propiedad.str.contains('house'))].superficie_total,4)\n",
    "df_precio_casas_pcia_precio_caba = pd.DataFrame(matriz[(matriz.localidad.fillna('').str.contains('capital federal'))&(matriz.propiedad.str.contains('house'))].groupby(['categorias_superficies_total'])['precio_aprox_usd'].mean().fillna(0).astype(int))\n",
    "df_precio_casas_pcia_precio_caba.to_csv('df_precio_casas_pcia_precio_caba.csv',sep='|')\n",
    "ac2 = df_precio_casas_pcia_precio_caba.plot.bar(rot=0)\n",
    "export_grafico1 = ac2.get_figure()\n",
    "export_grafico1\n",
    "export_grafico1.savefig('grafico_pcia_caba_house.svg')"
   ]
  },
  {
   "cell_type": "code",
   "execution_count": null,
   "metadata": {},
   "outputs": [],
   "source": []
  },
  {
   "cell_type": "code",
   "execution_count": null,
   "metadata": {},
   "outputs": [],
   "source": []
  },
  {
   "cell_type": "code",
   "execution_count": null,
   "metadata": {},
   "outputs": [],
   "source": []
  },
  {
   "cell_type": "code",
   "execution_count": 18,
   "metadata": {},
   "outputs": [
    {
     "name": "stdout",
     "output_type": "stream",
     "text": [
      "Boston House Prices dataset\n",
      "===========================\n",
      "\n",
      "Notes\n",
      "------\n",
      "Data Set Characteristics:  \n",
      "\n",
      "    :Number of Instances: 506 \n",
      "\n",
      "    :Number of Attributes: 13 numeric/categorical predictive\n",
      "    \n",
      "    :Median Value (attribute 14) is usually the target\n",
      "\n",
      "    :Attribute Information (in order):\n",
      "        - CRIM     per capita crime rate by town\n",
      "        - ZN       proportion of residential land zoned for lots over 25,000 sq.ft.\n",
      "        - INDUS    proportion of non-retail business acres per town\n",
      "        - CHAS     Charles River dummy variable (= 1 if tract bounds river; 0 otherwise)\n",
      "        - NOX      nitric oxides concentration (parts per 10 million)\n",
      "        - RM       average number of rooms per dwelling\n",
      "        - AGE      proportion of owner-occupied units built prior to 1940\n",
      "        - DIS      weighted distances to five Boston employment centres\n",
      "        - RAD      index of accessibility to radial highways\n",
      "        - TAX      full-value property-tax rate per $10,000\n",
      "        - PTRATIO  pupil-teacher ratio by town\n",
      "        - B        1000(Bk - 0.63)^2 where Bk is the proportion of blacks by town\n",
      "        - LSTAT    % lower status of the population\n",
      "        - MEDV     Median value of owner-occupied homes in $1000's\n",
      "\n",
      "    :Missing Attribute Values: None\n",
      "\n",
      "    :Creator: Harrison, D. and Rubinfeld, D.L.\n",
      "\n",
      "This is a copy of UCI ML housing dataset.\n",
      "http://archive.ics.uci.edu/ml/datasets/Housing\n",
      "\n",
      "\n",
      "This dataset was taken from the StatLib library which is maintained at Carnegie Mellon University.\n",
      "\n",
      "The Boston house-price data of Harrison, D. and Rubinfeld, D.L. 'Hedonic\n",
      "prices and the demand for clean air', J. Environ. Economics & Management,\n",
      "vol.5, 81-102, 1978.   Used in Belsley, Kuh & Welsch, 'Regression diagnostics\n",
      "...', Wiley, 1980.   N.B. Various transformations are used in the table on\n",
      "pages 244-261 of the latter.\n",
      "\n",
      "The Boston house-price data has been used in many machine learning papers that address regression\n",
      "problems.   \n",
      "     \n",
      "**References**\n",
      "\n",
      "   - Belsley, Kuh & Welsch, 'Regression diagnostics: Identifying Influential Data and Sources of Collinearity', Wiley, 1980. 244-261.\n",
      "   - Quinlan,R. (1993). Combining Instance-Based and Model-Based Learning. In Proceedings on the Tenth International Conference of Machine Learning, 236-243, University of Massachusetts, Amherst. Morgan Kaufmann.\n",
      "   - many more! (see http://archive.ics.uci.edu/ml/datasets/Housing)\n",
      "\n"
     ]
    }
   ],
   "source": [
    "%matplotlib inline\n",
    "from matplotlib import pyplot as plt\n",
    "\n",
    "from sklearn import datasets, linear_model\n",
    "from sklearn.metrics import mean_squared_error, r2_score\n",
    "from sklearn.model_selection import train_test_split\n",
    "data = datasets.load_boston()\n",
    "\n",
    "print (data.DESCR)\n"
   ]
  },
  {
   "cell_type": "code",
   "execution_count": 19,
   "metadata": {},
   "outputs": [
    {
     "data": {
      "text/plain": [
       "0          62000.00\n",
       "1         150000.00\n",
       "2          72000.00\n",
       "3          95000.00\n",
       "4          64000.00\n",
       "5               NaN\n",
       "6         130000.00\n",
       "7         138000.00\n",
       "8         195000.00\n",
       "9          25798.49\n",
       "10         70000.00\n",
       "11        150000.00\n",
       "12        115000.00\n",
       "13        111700.00\n",
       "14        147900.00\n",
       "15        250000.00\n",
       "16        239000.00\n",
       "17        315000.00\n",
       "18        570000.00\n",
       "19        350000.00\n",
       "20        110000.00\n",
       "21        270500.00\n",
       "22        290000.00\n",
       "23         82000.00\n",
       "24        355000.00\n",
       "25        358550.00\n",
       "26        265000.00\n",
       "27        650000.00\n",
       "28        362150.00\n",
       "29         75000.00\n",
       "            ...    \n",
       "101974    250000.00\n",
       "101975    208000.00\n",
       "101976     80523.00\n",
       "101977    375000.00\n",
       "101978    550000.00\n",
       "101979          NaN\n",
       "101980    305000.00\n",
       "101981    350000.00\n",
       "101982    290000.00\n",
       "101983    350000.00\n",
       "101984    430000.00\n",
       "101985    229000.00\n",
       "101986    485000.00\n",
       "101987     95000.00\n",
       "101988    120000.00\n",
       "101989    165000.00\n",
       "101990    295000.00\n",
       "101991    170000.00\n",
       "101992    165000.00\n",
       "101993    410000.00\n",
       "101994          NaN\n",
       "101995          NaN\n",
       "101996          NaN\n",
       "101997          NaN\n",
       "101998          NaN\n",
       "101999          NaN\n",
       "102000    870000.00\n",
       "102001    131500.00\n",
       "102002     95900.00\n",
       "102003    129000.00\n",
       "Name: precio_aprox_usd, Length: 102004, dtype: float64"
      ]
     },
     "execution_count": 19,
     "metadata": {},
     "output_type": "execute_result"
    }
   ],
   "source": [
    "matriz.precio_aprox_usd"
   ]
  },
  {
   "cell_type": "code",
   "execution_count": 20,
   "metadata": {},
   "outputs": [],
   "source": [
    "superficies = matriz.superficie_total[(matriz.superficie_total.notnull())&(matriz.precio_aprox_usd.notnull())]"
   ]
  },
  {
   "cell_type": "code",
   "execution_count": 21,
   "metadata": {},
   "outputs": [],
   "source": [
    "propiedad = matriz.propiedad[(matriz.superficie_total.notnull())&(matriz.precio_aprox_usd.notnull())]"
   ]
  },
  {
   "cell_type": "code",
   "execution_count": 22,
   "metadata": {},
   "outputs": [],
   "source": [
    "feactures = pd.DataFrame({'superficie':superficies, 'propiedad':propiedad})"
   ]
  },
  {
   "cell_type": "code",
   "execution_count": null,
   "metadata": {},
   "outputs": [],
   "source": []
  },
  {
   "cell_type": "code",
   "execution_count": 23,
   "metadata": {},
   "outputs": [],
   "source": [
    "precios = matriz.precio_aprox_usd[(matriz.superficie_total.notnull())&(matriz.precio_aprox_usd.notnull())]"
   ]
  },
  {
   "cell_type": "code",
   "execution_count": null,
   "metadata": {},
   "outputs": [],
   "source": []
  },
  {
   "cell_type": "code",
   "execution_count": 24,
   "metadata": {},
   "outputs": [],
   "source": [
    "X = feactures[['superficie']]"
   ]
  },
  {
   "cell_type": "code",
   "execution_count": 25,
   "metadata": {},
   "outputs": [],
   "source": [
    "y = precios"
   ]
  },
  {
   "cell_type": "code",
   "execution_count": null,
   "metadata": {},
   "outputs": [],
   "source": []
  },
  {
   "cell_type": "code",
   "execution_count": 26,
   "metadata": {},
   "outputs": [],
   "source": [
    "lm = linear_model.LinearRegression()"
   ]
  },
  {
   "cell_type": "code",
   "execution_count": 27,
   "metadata": {},
   "outputs": [],
   "source": [
    "model = lm.fit(X, y)"
   ]
  },
  {
   "cell_type": "code",
   "execution_count": 28,
   "metadata": {},
   "outputs": [],
   "source": [
    "predictions = lm.predict(X)"
   ]
  },
  {
   "cell_type": "code",
   "execution_count": 29,
   "metadata": {},
   "outputs": [
    {
     "name": "stdout",
     "output_type": "stream",
     "text": [
      "Intercepto=   237977.6053594799\n",
      "RM=   [61.71893929]\n",
      "R2_train=   0.07428412378071791\n"
     ]
    }
   ],
   "source": [
    "print ('Intercepto=', ' ', model.intercept_)\n",
    "print ('RM=', ' ', model.coef_)\n",
    "print ('R2_train=', ' ', model.score(X, y))"
   ]
  },
  {
   "cell_type": "code",
   "execution_count": 30,
   "metadata": {},
   "outputs": [],
   "source": [
    "# Generamos una función que resume los coeficientes, el intercepto y el R2\n",
    "# \"model\" = objeto con el modelo\n",
    "# \"X\" = matrix de variables independientes\n",
    "\n",
    "def sum_mod(model, X):\n",
    "    a = pd.DataFrame(model.coef_ , X.columns.values)\n",
    "    a = a.append(pd.DataFrame([model.intercept_, model.score(X, y)], index=['Intecept','R2']))\n",
    "    return(a)"
   ]
  },
  {
   "cell_type": "code",
   "execution_count": 53,
   "metadata": {},
   "outputs": [
    {
     "data": {
      "image/png": "[encoded data removed]",
      "text/plain": [
       "<Figure size 432x288 with 1 Axes>"
      ]
     },
     "metadata": {},
     "output_type": "display_data"
    },
    {
     "data": {
      "image/png": "[encoded data removed]",
      "text/plain": [
       "<Figure size 432x288 with 1 Axes>"
      ]
     },
     "metadata": {},
     "output_type": "display_data"
    }
   ],
   "source": [
    "# Graficamos la variable X contra la variable Y\n",
    "plt.scatter(X, y, s=30, c='r', marker='+', zorder=10)\n",
    "plt.xlabel(\"RM\")\n",
    "plt.ylabel(\"Valores reales MEDV\")\n",
    "plt.axis(xmin=0, xmax=50000, ymin=0, ymax=5000000)\n",
    "plt.show()\n",
    "\n",
    "# Graficamos el modelo\n",
    "plt.plot(y,y, '-.',c='grey')\n",
    "plt.scatter(predictions, y, s=30, c='r', marker='+', zorder=10)\n",
    "plt.xlabel(\"Predicciones de MEDV usando RM\")\n",
    "plt.ylabel(\"Valores reales MEDV\")\n",
    "\n",
    "plt.show()"
   ]
  },
  {
   "cell_type": "code",
   "execution_count": 32,
   "metadata": {},
   "outputs": [
    {
     "name": "stdout",
     "output_type": "stream",
     "text": [
      "EMC: 145359186156.95346\n"
     ]
    },
    {
     "data": {
      "text/html": [
       "<div>\n",
       "<style scoped>\n",
       "    .dataframe tbody tr th:only-of-type {\n",
       "        vertical-align: middle;\n",
       "    }\n",
       "\n",
       "    .dataframe tbody tr th {\n",
       "        vertical-align: top;\n",
       "    }\n",
       "\n",
       "    .dataframe thead th {\n",
       "        text-align: right;\n",
       "    }\n",
       "</style>\n",
       "<table border=\"1\" class=\"dataframe\">\n",
       "  <thead>\n",
       "    <tr style=\"text-align: right;\">\n",
       "      <th></th>\n",
       "      <th>0</th>\n",
       "    </tr>\n",
       "  </thead>\n",
       "  <tbody>\n",
       "    <tr>\n",
       "      <th>superficie</th>\n",
       "      <td>61.718939</td>\n",
       "    </tr>\n",
       "    <tr>\n",
       "      <th>Intecept</th>\n",
       "      <td>237977.605359</td>\n",
       "    </tr>\n",
       "    <tr>\n",
       "      <th>R2</th>\n",
       "      <td>0.074284</td>\n",
       "    </tr>\n",
       "  </tbody>\n",
       "</table>\n",
       "</div>"
      ],
      "text/plain": [
       "                        0\n",
       "superficie      61.718939\n",
       "Intecept    237977.605359\n",
       "R2               0.074284"
      ]
     },
     "execution_count": 32,
     "metadata": {},
     "output_type": "execute_result"
    }
   ],
   "source": [
    "print (\"EMC:\", mean_squared_error(y, predictions)) # error medio cuadrático\n",
    "sum_mod(model, X)"
   ]
  },
  {
   "cell_type": "code",
   "execution_count": 33,
   "metadata": {},
   "outputs": [],
   "source": [
    "import seaborn as sns\n",
    "import matplotlib.pyplot as plt\n",
    "%matplotlib inline"
   ]
  },
  {
   "cell_type": "code",
   "execution_count": 34,
   "metadata": {},
   "outputs": [
    {
     "data": {
      "image/png": "[encoded data removed]",
      "text/plain": [
       "<Figure size 432x288 with 2 Axes>"
      ]
     },
     "metadata": {},
     "output_type": "display_data"
    }
   ],
   "source": [
    "sns.heatmap(matriz.corr(), vmin=-1, vmax=1, center=0, cmap=\"RdBu_r\");"
   ]
  },
  {
   "cell_type": "code",
   "execution_count": null,
   "metadata": {},
   "outputs": [],
   "source": []
  }
 ],
 "metadata": {
  "kernelspec": {
   "display_name": "Python 3",
   "language": "python",
   "name": "python3"
  },
  "language_info": {
   "codemirror_mode": {
    "name": "ipython",
    "version": 3
   },
   "file_extension": ".py",
   "mimetype": "text/x-python",
   "name": "python",
   "nbconvert_exporter": "python",
   "pygments_lexer": "ipython3",
   "version": "3.6.6"
  }
 },
 "nbformat": 4,
 "nbformat_minor": 2
}
