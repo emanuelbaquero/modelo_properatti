{
  "cells": [
    {
      "cell_type": "code",
      "metadata": {},
      "source": [
        "import matplotlib.pyplot as plt\n",
        "\n",
        "#GENERO EJE X -> SUPERFICIE TOTAL\n",
        "x1 = x_test[:,0]\n",
        "\n",
        "#GENERO EJE Y -> PRECIO M2 DE TEST\n",
        "x2 = y_test\n",
        "\n",
        "# EJE Y -> PRECIO M2 PREDICHO\n",
        "x3 = y_predict\n",
        "\n",
        "\n",
        "#PLOT\n",
        "plt.scatter(x1,x2,label='test modelo', color='blue')\n",
        "plt.scatter(x1,x3,label='prediccion modelo', color='red')\n",
        "plt.title('grafico modelo')\n",
        "plt.show()"
      ],
      "outputs": [],
      "execution_count": null
    }
  ],
  "metadata": {
    "anaconda-cloud": {},
    "kernelspec": {
      "display_name": "Python 3",
      "language": "python",
      "name": "python3"
    },
    "language_info": {
      "codemirror_mode": {
        "name": "ipython",
        "version": 3
      },
      "file_extension": ".py",
      "mimetype": "text/x-python",
      "name": "python",
      "nbconvert_exporter": "python",
      "pygments_lexer": "ipython3",
      "version": "3.6.1"
    }
  },
  "nbformat": 4,
  "nbformat_minor": 1
}