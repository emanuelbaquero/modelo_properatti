{
 "cells": [
  {
   "cell_type": "markdown",
   "metadata": {},
   "source": [
    "# DESAFIO MODELO PROPERATTI"
   ]
  },
  {
   "cell_type": "code",
   "execution_count": 1,
   "metadata": {},
   "outputs": [
    {
     "name": "stderr",
     "output_type": "stream",
     "text": [
      "/opt/conda/lib/python3.6/site-packages/sklearn/cross_validation.py:41: DeprecationWarning: This module was deprecated in version 0.18 in favor of the model_selection module into which all the refactored classes and functions are moved. Also note that the interface of the new CV iterators are different from that of this module. This module will be removed in 0.20.\n",
      "  \"This module will be removed in 0.20.\", DeprecationWarning)\n"
     ]
    }
   ],
   "source": [
    "import pandas as pd\n",
    "import Util as utl"
   ]
  },
  {
   "cell_type": "markdown",
   "metadata": {},
   "source": [
    "#### SE PONEN NULLABLE LOS OUTLIERS Y SON IMPUTADOS   .......... z-score  [0.80]"
   ]
  },
  {
   "cell_type": "code",
   "execution_count": 2,
   "metadata": {},
   "outputs": [],
   "source": [
    "#data = pd.read_csv('/home/DS-DH/jupyter/digitalHouse/properatti.csv')\n",
    "#data = utl.limpiarDatos(data,0.80)\n",
    "data = pd.read_csv('/home/DS-DH/jupyter/digitalHouse/data.csv',sep='|')\n",
    "#data.to_csv('/home/DS-DH/jupyter/digitalHouse/data.csv',sep='|')\n",
    "matriz = utl.GenerarMatriz(data)"
   ]
  },
  {
   "cell_type": "markdown",
   "metadata": {},
   "source": [
    "#### SE GENERAN LAS DUMMYS PARA EL MODELO"
   ]
  },
  {
   "cell_type": "code",
   "execution_count": 3,
   "metadata": {},
   "outputs": [
    {
     "data": {
      "text/plain": [
       "(10064, 77)"
      ]
     },
     "execution_count": 3,
     "metadata": {},
     "output_type": "execute_result"
    }
   ],
   "source": [
    "modeloMatriz = utl.generarDummies(matriz)\n",
    "modeloMatriz.shape"
   ]
  },
  {
   "cell_type": "markdown",
   "metadata": {},
   "source": [
    "#### SE LIMPIAN VARIABLES APLICANDO RECURSIVAMENtE LASSO"
   ]
  },
  {
   "cell_type": "code",
   "execution_count": 4,
   "metadata": {},
   "outputs": [],
   "source": [
    "#modeloMatriz_2 = utl.eliminar_features_lasso(modeloMatriz)\n",
    "#modeloMatriz_2.shape"
   ]
  },
  {
   "cell_type": "markdown",
   "metadata": {},
   "source": [
    "#### SE LIMPIAN VARIABLES CON CORRELACION BAJA "
   ]
  },
  {
   "cell_type": "code",
   "execution_count": 4,
   "metadata": {},
   "outputs": [
    {
     "data": {
      "text/plain": [
       "(10064, 31)"
      ]
     },
     "execution_count": 4,
     "metadata": {},
     "output_type": "execute_result"
    }
   ],
   "source": [
    "modeloMatriz_30_variables = utl.eliminar_features(modeloMatriz)\n",
    "modeloMatriz_30_variables.shape"
   ]
  },
  {
   "cell_type": "markdown",
   "metadata": {},
   "source": [
    "#### STATS MODELS"
   ]
  },
  {
   "cell_type": "code",
   "execution_count": 5,
   "metadata": {},
   "outputs": [
    {
     "name": "stdout",
     "output_type": "stream",
     "text": [
      "EMC: 107206.54330708309\n",
      "                            OLS Regression Results                            \n",
      "==============================================================================\n",
      "Dep. Variable:              precio_m2   R-squared:                       0.806\n",
      "Model:                            OLS   Adj. R-squared:                  0.805\n",
      "Method:                 Least Squares   F-statistic:                     572.6\n",
      "Date:                Wed, 06 May 2020   Prob (F-statistic):               0.00\n",
      "Time:                        15:30:16   Log-Likelihood:                -28928.\n",
      "No. Observations:                4025   AIC:                         5.792e+04\n",
      "Df Residuals:                    3995   BIC:                         5.810e+04\n",
      "Df Model:                          29                                         \n",
      "Covariance Type:            nonrobust                                         \n",
      "==============================================================================================\n",
      "                                 coef    std err          t      P>|t|      [0.025      0.975]\n",
      "----------------------------------------------------------------------------------------------\n",
      "superficie_total              -0.4558      0.064     -7.108      0.000      -0.582      -0.330\n",
      "superficieJardines           -24.7778     17.893     -1.385      0.166     -59.858      10.302\n",
      "superficieJardinesTerrazas    37.1591     21.995      1.689      0.091      -5.963      80.281\n",
      "CASA                        1647.9036     32.669     50.443      0.000    1583.855    1711.952\n",
      "PH                          1737.8294     25.741     67.511      0.000    1687.362    1788.297\n",
      "DTO                         2365.2533      9.596    246.474      0.000    2346.439    2384.068\n",
      "mataderos                   -526.5761     43.393    -12.135      0.000    -611.651    -441.501\n",
      "belgrano                     660.7168     18.332     36.041      0.000     624.775     696.658\n",
      "palermo_soho                  70.2596     53.941      1.303      0.193     -35.495     176.014\n",
      "palermo                      740.2861     18.366     40.308      0.000     704.279     776.293\n",
      "flores                      -302.8405     26.508    -11.425      0.000    -354.811    -250.870\n",
      "boedo                       -518.6164     35.070    -14.788      0.000    -587.373    -449.860\n",
      "balvanera                   -455.8751     36.049    -12.646      0.000    -526.552    -385.198\n",
      "nunez                        575.1888     35.256     16.315      0.000     506.067     644.310\n",
      "almagro                     -146.9014     25.620     -5.734      0.000    -197.130     -96.672\n",
      "capital_federal             -329.4735     31.485    -10.465      0.000    -391.201    -267.746\n",
      "barracas                    -300.9680     37.549     -8.015      0.000    -374.586    -227.350\n",
      "las_canitas                 1098.7673     66.123     16.617      0.000     969.130    1228.405\n",
      "recoleta                     772.7798     24.765     31.204      0.000     724.226     821.333\n",
      "puerto_madero               2824.3414     42.760     66.051      0.000    2740.508    2908.175\n",
      "barrio_norte                 526.1376     25.619     20.537      0.000     475.911     576.365\n",
      "palermo_hollywood             15.1602     40.097      0.378      0.705     -63.453      93.773\n",
      "floresta                    -100.7876     48.121     -2.094      0.036    -195.132      -6.443\n",
      "boca                        -613.3127     67.518     -9.084      0.000    -745.686    -480.940\n",
      "san_cristobal               -294.8408     41.313     -7.137      0.000    -375.837    -213.844\n",
      "liniers                     -352.1144     47.821     -7.363      0.000    -445.870    -258.358\n",
      "constitucion                -518.1889     70.608     -7.339      0.000    -656.620    -379.758\n",
      "parque_patricios            -421.6042     62.473     -6.749      0.000    -544.086    -299.123\n",
      "palermo_chico               1023.9694     72.103     14.202      0.000     882.608    1165.331\n",
      "villa_lugano                -769.6853     66.541    -11.567      0.000    -900.143    -639.228\n",
      "==============================================================================\n",
      "Omnibus:                      110.866   Durbin-Watson:                   2.014\n",
      "Prob(Omnibus):                  0.000   Jarque-Bera (JB):              132.743\n",
      "Skew:                           0.352   Prob(JB):                     1.50e-29\n",
      "Kurtosis:                       3.543   Cond. No.                     2.24e+03\n",
      "==============================================================================\n",
      "\n",
      "Warnings:\n",
      "[1] Standard Errors assume that the covariance matrix of the errors is correctly specified.\n",
      "[2] The condition number is large, 2.24e+03. This might indicate that there are\n",
      "strong multicollinearity or other numerical problems.\n"
     ]
    },
    {
     "data": {
      "text/plain": [
       "<statsmodels.regression.linear_model.RegressionResultsWrapper at 0x7fe87ca8a8d0>"
      ]
     },
     "execution_count": 5,
     "metadata": {},
     "output_type": "execute_result"
    }
   ],
   "source": [
    "utl.summary(modeloMatriz_30_variables)"
   ]
  },
  {
   "cell_type": "markdown",
   "metadata": {},
   "source": [
    "### Regresion Lineal Multiple"
   ]
  },
  {
   "cell_type": "code",
   "execution_count": 6,
   "metadata": {},
   "outputs": [
    {
     "name": "stderr",
     "output_type": "stream",
     "text": [
      "/home/DS-DH/jupyter/digitalHouse/modelo-properatti/Util.py:243: FutureWarning: Method .as_matrix will be removed in a future version. Use .values instead.\n",
      "  xs = xs.as_matrix()\n",
      "/home/DS-DH/jupyter/digitalHouse/modelo-properatti/Util.py:245: FutureWarning: Method .as_matrix will be removed in a future version. Use .values instead.\n",
      "  y = y.as_matrix()\n"
     ]
    },
    {
     "data": {
      "image/png": "[encoded data removed]",
      "text/plain": [
       "<Figure size 432x288 with 1 Axes>"
      ]
     },
     "metadata": {
      "needs_background": "light"
     },
     "output_type": "display_data"
    },
    {
     "name": "stdout",
     "output_type": "stream",
     "text": [
      "CROSS VALIDATION: 0.7775204297287929 0.8063524224328286 0.8205588505693219 0.7974227273614247 0.7993166499027599\n",
      "MAE: 262.1040677319604\n",
      "MSE: 105560.1175217529\n",
      "RMSE: 324.90016546895276\n",
      "EL R2 TRAIN ES DE:  0.8039376814491173\n",
      "EL R2 TEST ES DE:  0.8022231508645818\n"
     ]
    }
   ],
   "source": [
    "modelo = utl.modelo_regresion_lineal(modeloMatriz_30_variables)"
   ]
  },
  {
   "cell_type": "markdown",
   "metadata": {},
   "source": [
    "#### Regresion Ridge"
   ]
  },
  {
   "cell_type": "code",
   "execution_count": 7,
   "metadata": {},
   "outputs": [
    {
     "name": "stderr",
     "output_type": "stream",
     "text": [
      "/home/DS-DH/jupyter/digitalHouse/modelo-properatti/Util.py:144: FutureWarning: Method .as_matrix will be removed in a future version. Use .values instead.\n",
      "  xs = xs.as_matrix()\n",
      "/home/DS-DH/jupyter/digitalHouse/modelo-properatti/Util.py:145: FutureWarning: Method .as_matrix will be removed in a future version. Use .values instead.\n",
      "  y = y.as_matrix()\n"
     ]
    },
    {
     "name": "stdout",
     "output_type": "stream",
     "text": [
      "REGULARIZACION CON RIDGE\n",
      "CROSS VALIDATION: 0.8091348354059331 0.8111309273377614 0.7981434819378495 0.7887693376983019 0.8008034191568578\n",
      "MAE RIDGE: 258.82845337685796\n",
      "MSE RIDGE: 104464.61752461133\n",
      "RMSE RIDGE: 323.2098660694183\n",
      "RIDGE -> R2 TRAIN:  0.8039692689433364\n",
      "RIDGE -> R2 TEST:  0.801692640894096\n"
     ]
    },
    {
     "data": {
      "text/plain": [
       "(2023.2479554221509,\n",
       " array([-3.59230561e-01, -1.93810650e+01,  1.71500039e+00, -3.75334558e+02,\n",
       "        -2.51717780e+02,  3.45601684e+02, -5.09649794e+02,  6.54846509e+02,\n",
       "         5.93047774e+01,  7.50595824e+02, -2.98773283e+02, -6.24292910e+02,\n",
       "        -4.25128660e+02,  5.77399430e+02, -1.38188897e+02, -3.48683810e+02,\n",
       "        -3.17633147e+02,  9.39797666e+02,  7.57338927e+02,  2.77035514e+03,\n",
       "         5.02152424e+02, -1.14086715e+01, -1.26797789e+02, -6.63357376e+02,\n",
       "        -3.57521805e+02, -3.46431455e+02, -6.18227773e+02, -4.53788921e+02,\n",
       "         1.08513599e+03, -8.55564719e+02]))"
      ]
     },
     "execution_count": 7,
     "metadata": {},
     "output_type": "execute_result"
    },
    {
     "data": {
      "image/png": "[encoded data removed]",
      "text/plain": [
       "<Figure size 432x288 with 1 Axes>"
      ]
     },
     "metadata": {
      "needs_background": "light"
     },
     "output_type": "display_data"
    }
   ],
   "source": [
    "modelo_ridge = utl.modelo_ridge_cross_validation(modeloMatriz_30_variables)\n",
    "(modelo_ridge.intercept_,modelo_ridge.coef_)"
   ]
  },
  {
   "cell_type": "markdown",
   "metadata": {},
   "source": [
    "#### Lasso Regression"
   ]
  },
  {
   "cell_type": "code",
   "execution_count": 8,
   "metadata": {
    "scrolled": false
   },
   "outputs": [
    {
     "name": "stderr",
     "output_type": "stream",
     "text": [
      "/home/DS-DH/jupyter/digitalHouse/modelo-properatti/Util.py:108: FutureWarning: Method .as_matrix will be removed in a future version. Use .values instead.\n",
      "  xs = xs.as_matrix()\n",
      "/home/DS-DH/jupyter/digitalHouse/modelo-properatti/Util.py:109: FutureWarning: Method .as_matrix will be removed in a future version. Use .values instead.\n",
      "  y = y.as_matrix()\n"
     ]
    },
    {
     "name": "stdout",
     "output_type": "stream",
     "text": [
      "LASSO REGRESSION\n",
      "CROSS VALIDATION: 0.8002014354247461 0.8179939899282583 0.830017599852243 0.8042073902663807 0.7776729977576942\n",
      "MAE LASSO: 259.9259209232212\n",
      "MSE LASSO: 103913.08388618226\n",
      "RMSE LASSO: 322.3555240509805\n",
      "LASSO -> R2 TRAIN:  0.8087930053826902\n",
      "LASSO -> R2 TEST:  0.7932925105062443\n"
     ]
    },
    {
     "data": {
      "text/plain": [
       "(1750.5375385815698,\n",
       " array([-3.69026995e-01, -1.52703357e+00,  1.46060767e+01, -1.36946456e+02,\n",
       "        -0.00000000e+00,  6.17910664e+02, -5.10451264e+02,  6.53211650e+02,\n",
       "         3.65976593e+01,  7.34895917e+02, -2.93782597e+02, -6.16015732e+02,\n",
       "        -4.51191295e+02,  5.98945367e+02, -1.39183629e+02, -3.32200452e+02,\n",
       "        -3.12073410e+02,  9.23358917e+02,  7.60446192e+02,  2.75162578e+03,\n",
       "         5.15850145e+02, -2.66829535e+01, -1.45926336e+02, -6.54289010e+02,\n",
       "        -3.49553230e+02, -3.36936127e+02, -5.77633684e+02, -4.77020129e+02,\n",
       "         1.14804508e+03, -7.49879881e+02]))"
      ]
     },
     "execution_count": 8,
     "metadata": {},
     "output_type": "execute_result"
    },
    {
     "data": {
      "image/png": "[encoded data removed]",
      "text/plain": [
       "<Figure size 432x288 with 1 Axes>"
      ]
     },
     "metadata": {
      "needs_background": "light"
     },
     "output_type": "display_data"
    }
   ],
   "source": [
    "modelo_lasso = utl.modelo_lasso_cross_validation(modeloMatriz_30_variables)\n",
    "(modelo_lasso.intercept_,modelo_lasso.coef_)"
   ]
  },
  {
   "cell_type": "markdown",
   "metadata": {},
   "source": [
    "## PARAMETROS A PREDECIR\n",
    "###### PARA LA PREDICCION DE PRECIOS POR M2 DE ALQUILERES EN CAPITAL FEDERAL\n",
    "## NORMALIZAR O NO.. DEPENDE EL MODELO A USAR"
   ]
  },
  {
   "cell_type": "code",
   "execution_count": 8,
   "metadata": {},
   "outputs": [
    {
     "data": {
      "text/plain": [
       "'EL RESULTADO DEL MODELO PARA LAS VARIABLES INGRESADAS ES DE 2277 U$D POR M2'"
      ]
     },
     "execution_count": 8,
     "metadata": {},
     "output_type": "execute_result"
    }
   ],
   "source": [
    "SUPERFICIE_TOTAL = 30             ##  [0,600]\n",
    "JARDIN = '0'                      ##  0,1\n",
    "TERRAZA = '1'                     ##  0,1\n",
    "CANTIDAD_DE_AMBIENTES = '1'       ##  1,2,3,4,4,5,6,7\n",
    "TIPO_DE_PROPIEDAD = 'DTO'         ##  CASA, PH, DTO\n",
    "BARRIO = 'belgrano'          ##  barrios de CABA, en minusculas\n",
    "\n",
    "nuevos_Feactures = utl.nuevosDatos(modeloMatriz_3, SUPERFICIE_TOTAL, JARDIN, TERRAZA, CANTIDAD_DE_AMBIENTES, TIPO_DE_PROPIEDAD, BARRIO)\n",
    "y_predict = modelo_lasso.predict(nuevos_Feactures)\n",
    "\n",
    "'EL RESULTADO DEL MODELO PARA LAS VARIABLES INGRESADAS ES DE {} U$D POR M2'.format(y_predict[0].astype(int))\n"
   ]
  },
  {
   "cell_type": "code",
   "execution_count": 10,
   "metadata": {},
   "outputs": [],
   "source": [
    "diccionario = {'modeloMatriz':modeloMatriz_30_variables,'multiple':modelo,'ridge':modelo_ridge,'lasso':modelo_lasso}"
   ]
  },
  {
   "cell_type": "code",
   "execution_count": null,
   "metadata": {},
   "outputs": [],
   "source": []
  },
  {
   "cell_type": "markdown",
   "metadata": {},
   "source": [
    "## GUARDAMOS EN PKL"
   ]
  },
  {
   "cell_type": "code",
   "execution_count": 14,
   "metadata": {},
   "outputs": [],
   "source": [
    "import os\n",
    "import pickle\n",
    "with open('modelo.pkl', 'wb') as pkl:\n",
    "    pickle.dump(diccionario, pkl)"
   ]
  }
 ],
 "metadata": {
  "kernelspec": {
   "display_name": "Python 3",
   "language": "python",
   "name": "python3"
  },
  "language_info": {
   "codemirror_mode": {
    "name": "ipython",
    "version": 3
   },
   "file_extension": ".py",
   "mimetype": "text/x-python",
   "name": "python",
   "nbconvert_exporter": "python",
   "pygments_lexer": "ipython3",
   "version": "3.6.6"
  }
 },
 "nbformat": 4,
 "nbformat_minor": 2
}
